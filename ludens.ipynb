{
 "cells": [
  {
   "cell_type": "markdown",
   "metadata": {},
   "source": [
    "# MIIII"
   ]
  },
  {
   "cell_type": "code",
   "execution_count": 41,
   "metadata": {},
   "outputs": [],
   "source": [
    "import jax.numpy as jnp\n",
    "from jax import random\n",
    "import jax\n",
    "import numpy as np\n",
    "from functools import partial\n",
    "from sklearn.metrics import confusion_matrix, f1_score\n",
    "from matplotlib import pyplot as plt\n",
    "import seaborn as sns\n",
    "import miiiii"
   ]
  },
  {
   "cell_type": "code",
   "execution_count": 12,
   "metadata": {},
   "outputs": [],
   "source": [
    "seed = 0\n",
    "cfg, (rng, key) = miiiii.get_conf(), random.split(random.PRNGKey(seed))\n",
    "ns = partial(miiiii.base_ns, miiiii.digit_fn)\n",
    "train_data, valid_data = miiiii.prime_fn(cfg.n, cfg.base, ns, rng)\n",
    "params = miiiii.init_fn(key, cfg, *train_data)\n",
    "\n",
    "# train\n",
    "apply_fn = miiiii.make_apply_fn(miiiii.vaswani_fn)\n",
    "train_fn, state = miiiii.init_train(apply_fn, params, cfg, train_data, valid_data)\n",
    "(params, opt_state, ema_grads), metrics = train_fn(cfg.epochs, rng, state)"
   ]
  },
  {
   "cell_type": "code",
   "execution_count": 16,
   "metadata": {},
   "outputs": [],
   "source": [
    "rng, key = random.split(rng)\n",
    "(x_train, y_train), (x_valid, y_valid) = train_data, valid_data\n",
    "train_pred = miiiii.predict_fn(apply_fn, params, x_train)\n",
    "valid_pred = miiiii.predict_fn(apply_fn, params, x_valid)"
   ]
  },
  {
   "cell_type": "code",
   "execution_count": 17,
   "metadata": {},
   "outputs": [
    {
     "data": {
      "text/plain": [
       "(Array(0.8148804, dtype=float32), Array(0.8157959, dtype=float32))"
      ]
     },
     "execution_count": 17,
     "metadata": {},
     "output_type": "execute_result"
    }
   ],
   "source": [
    "(train_pred == y_train).mean(), (valid_pred == y_valid).mean()"
   ]
  },
  {
   "cell_type": "code",
   "execution_count": 62,
   "metadata": {},
   "outputs": [],
   "source": [
    "noise = random.uniform(rng, (31, 31))\n",
    "res = (valid_pred == y_valid)[:, 1:].mean(axis=0)[:, None]\n",
    "\n",
    "tmp = jnp.concatenate([res, noise], axis=-1)\n",
    "tmp = jnp.cumsum(tmp, axis=-1)\n",
    "# row normalize\n",
    "tmp = tmp / tmp.max(axis=-1, keepdims=True)"
   ]
  },
  {
   "cell_type": "code",
   "execution_count": null,
   "metadata": {},
   "outputs": [],
   "source": []
  },
  {
   "cell_type": "code",
   "execution_count": 63,
   "metadata": {},
   "outputs": [
    {
     "data": {
      "text/plain": [
       "<Axes: >"
      ]
     },
     "execution_count": 63,
     "metadata": {},
     "output_type": "execute_result"
    },
    {
     "data": {
      "image/png": "[encoded data removed]",
      "text/plain": [
       "<Figure size 640x480 with 1 Axes>"
      ]
     },
     "metadata": {},
     "output_type": "display_data"
    }
   ],
   "source": [
    "sns.heatmap(\n",
    "    1 - np.array(tmp), cbar=False, cmap=\"gray\", xticklabels=False, yticklabels=False\n",
    ")"
   ]
  },
  {
   "cell_type": "code",
   "execution_count": 68,
   "metadata": {},
   "outputs": [
    {
     "data": {
      "image/png": "[encoded data removed]",
      "text/plain": [
       "<Figure size 640x480 with 1 Axes>"
      ]
     },
     "metadata": {},
     "output_type": "display_data"
    }
   ],
   "source": [
    "def hinton_ish(matrix, ax=None):\n",
    "    ax = ax if ax is not None else plt.gca()\n",
    "    max_weight = 2 ** np.ceil(np.log2(np.abs(matrix).max()))\n",
    "\n",
    "    ax.patch.set_facecolor(\"white\")\n",
    "    ax.set_aspect(\"equal\", \"box\")\n",
    "    ax.xaxis.set_major_locator(plt.NullLocator())\n",
    "    ax.yaxis.set_major_locator(plt.NullLocator())\n",
    "\n",
    "    for (x, y), w in np.ndenumerate(matrix):\n",
    "        color = \"black\"\n",
    "        size = np.sqrt(abs(w) / max_weight)\n",
    "        rect = plt.Rectangle(\n",
    "            [x - size / 2, y - size / 2], size, size, facecolor=color, edgecolor=color\n",
    "        )\n",
    "        ax.add_patch(rect)\n",
    "\n",
    "    ax.autoscale_view()\n",
    "    ax.invert_yaxis()\n",
    "\n",
    "\n",
    "hinton_ish(np.array(tmp).T)\n",
    "plt.show()"
   ]
  },
  {
   "cell_type": "code",
   "execution_count": 67,
   "metadata": {},
   "outputs": [
    {
     "data": {
      "text/plain": [
       "Array([[0.0452912 , 0.09649343, 0.1008401 , 0.11666974, 0.14883012,\n",
       "        0.16309875, 0.2020918 , 0.23951939, 0.24184842, 0.2626375 ,\n",
       "        0.30081627, 0.34008247, 0.38761377, 0.41680747, 0.4521693 ,\n",
       "        0.48659244, 0.49802348, 0.53688335, 0.55009365, 0.58848083,\n",
       "        0.6385534 , 0.6817124 , 0.73233205, 0.7807308 , 0.8039021 ,\n",
       "        0.80852413, 0.8251145 , 0.8754664 , 0.9219245 , 0.9520125 ,\n",
       "        0.99717903, 1.        ],\n",
       "       [0.02039245, 0.03019316, 0.07396158, 0.07410821, 0.09717096,\n",
       "        0.11431636, 0.14883117, 0.1647131 , 0.22126172, 0.23603731,\n",
       "        0.29294273, 0.34161827, 0.36120492, 0.40483704, 0.4610742 ,\n",
       "        0.5086524 , 0.51970917, 0.5689735 , 0.6136151 , 0.664952  ,\n",
       "        0.6969111 , 0.7426608 , 0.7585693 , 0.7698887 , 0.7868949 ,\n",
       "        0.8308095 , 0.8372559 , 0.8709916 , 0.8864633 , 0.94389206,\n",
       "        0.95484215, 1.        ],\n",
       "       [0.05255966, 0.08468065, 0.102552  , 0.13249418, 0.17204875,\n",
       "        0.18422592, 0.24133518, 0.25647667, 0.2744824 , 0.29635444,\n",
       "        0.3188136 , 0.37207666, 0.37527987, 0.43822032, 0.44699386,\n",
       "        0.45973447, 0.48415422, 0.5465844 , 0.60689676, 0.6512292 ,\n",
       "        0.67804766, 0.71669906, 0.7174821 , 0.7341784 , 0.7357662 ,\n",
       "        0.79125315, 0.8271977 , 0.84878254, 0.8864386 , 0.9244476 ,\n",
       "        0.9362313 , 1.        ],\n",
       "       [0.0388134 , 0.0875156 , 0.11576131, 0.15482418, 0.17729136,\n",
       "        0.1913699 , 0.21152627, 0.26015544, 0.29907957, 0.32440305,\n",
       "        0.35927597, 0.36539423, 0.4097288 , 0.44107363, 0.48496225,\n",
       "        0.5002824 , 0.51777846, 0.55309254, 0.6006183 , 0.6389246 ,\n",
       "        0.6709376 , 0.67463565, 0.7043624 , 0.72556406, 0.76046264,\n",
       "        0.789223  , 0.81776583, 0.8419608 , 0.8743931 , 0.9156327 ,\n",
       "        0.9556628 , 1.        ],\n",
       "       [0.03823058, 0.09671781, 0.14839993, 0.14966232, 0.16553833,\n",
       "        0.1846298 , 0.19910565, 0.23901623, 0.26635593, 0.3060645 ,\n",
       "        0.33283535, 0.38495985, 0.4000014 , 0.44136006, 0.46589977,\n",
       "        0.4837514 , 0.5388001 , 0.572341  , 0.5856062 , 0.6056749 ,\n",
       "        0.627936  , 0.6543067 , 0.7114351 , 0.7293887 , 0.7541942 ,\n",
       "        0.7907487 , 0.8443892 , 0.8954955 , 0.90811676, 0.95571005,\n",
       "        0.98108137, 1.        ],\n",
       "       [0.02312136, 0.06330752, 0.11877073, 0.18580298, 0.23263203,\n",
       "        0.2756322 , 0.30395973, 0.3114448 , 0.31317416, 0.35825926,\n",
       "        0.42369467, 0.42618114, 0.43806025, 0.46488371, 0.5225892 ,\n",
       "        0.5238877 , 0.58719593, 0.60506636, 0.6356383 , 0.65455633,\n",
       "        0.6912769 , 0.74774086, 0.7478468 , 0.78515834, 0.80976546,\n",
       "        0.83926296, 0.8856428 , 0.8885945 , 0.9402503 , 0.988452  ,\n",
       "        0.99444216, 1.        ],\n",
       "       [0.03956653, 0.04169471, 0.09828484, 0.13473532, 0.17057054,\n",
       "        0.17587002, 0.17952862, 0.20476937, 0.2488539 , 0.26018408,\n",
       "        0.31646   , 0.3693624 , 0.37477204, 0.3763094 , 0.41290343,\n",
       "        0.42502475, 0.45718744, 0.5006745 , 0.5570721 , 0.6030758 ,\n",
       "        0.63662004, 0.6833631 , 0.7147095 , 0.7697151 , 0.7815768 ,\n",
       "        0.8125414 , 0.84997106, 0.86756974, 0.88792515, 0.9024326 ,\n",
       "        0.9437026 , 1.        ],\n",
       "       [0.04710792, 0.069851  , 0.11183714, 0.16465856, 0.1926274 ,\n",
       "        0.2291165 , 0.26101547, 0.26329035, 0.29260027, 0.31633508,\n",
       "        0.36912972, 0.39898488, 0.4480974 , 0.49501136, 0.5411712 ,\n",
       "        0.58476   , 0.63476044, 0.64109457, 0.6582957 , 0.68556744,\n",
       "        0.7335732 , 0.78178334, 0.79311347, 0.832641  , 0.84565353,\n",
       "        0.86453646, 0.86630857, 0.88616514, 0.937522  , 0.942533  ,\n",
       "        0.9542245 , 1.        ],\n",
       "       [0.06175321, 0.07657981, 0.13263138, 0.1787555 , 0.20177709,\n",
       "        0.21150395, 0.26912934, 0.31540143, 0.36610878, 0.43651018,\n",
       "        0.4520177 , 0.45612234, 0.48468244, 0.5424179 , 0.60030293,\n",
       "        0.6140265 , 0.61482286, 0.6391468 , 0.6430511 , 0.6692071 ,\n",
       "        0.7112503 , 0.73297596, 0.7701587 , 0.77059996, 0.7819345 ,\n",
       "        0.82664853, 0.87322634, 0.91520953, 0.9267835 , 0.95875394,\n",
       "        0.9696825 , 1.        ],\n",
       "       [0.05394135, 0.1118328 , 0.152405  , 0.18608117, 0.23221907,\n",
       "        0.29188284, 0.3091228 , 0.35796422, 0.3711285 , 0.39474344,\n",
       "        0.43021527, 0.44428274, 0.47565582, 0.5205279 , 0.5436332 ,\n",
       "        0.5832075 , 0.6360309 , 0.6470893 , 0.7069704 , 0.7494375 ,\n",
       "        0.7508973 , 0.75413275, 0.76848084, 0.78498214, 0.8147374 ,\n",
       "        0.8179538 , 0.8770785 , 0.89026606, 0.8981204 , 0.9508422 ,\n",
       "        0.95844156, 1.        ],\n",
       "       [0.04365661, 0.10368627, 0.13561693, 0.16898091, 0.22735402,\n",
       "        0.27286157, 0.3050326 , 0.35841483, 0.395938  , 0.43452293,\n",
       "        0.4916996 , 0.54775125, 0.55476576, 0.59874797, 0.64744616,\n",
       "        0.647865  , 0.6657811 , 0.6817033 , 0.71630394, 0.7681393 ,\n",
       "        0.7681777 , 0.8285131 , 0.8315025 , 0.8410961 , 0.8502901 ,\n",
       "        0.89804935, 0.900046  , 0.9157114 , 0.9173438 , 0.9191706 ,\n",
       "        0.98113346, 1.        ],\n",
       "       [0.05146064, 0.0701104 , 0.11067303, 0.14988934, 0.19184597,\n",
       "        0.20700559, 0.24139741, 0.28528637, 0.34271467, 0.34752378,\n",
       "        0.37085208, 0.3974674 , 0.40538058, 0.44309473, 0.44592574,\n",
       "        0.4829052 , 0.52797234, 0.53566366, 0.5831409 , 0.6171595 ,\n",
       "        0.6714007 , 0.69972354, 0.7201233 , 0.7281265 , 0.77190197,\n",
       "        0.8175268 , 0.8619654 , 0.89955103, 0.9266657 , 0.94339323,\n",
       "        0.9636749 , 1.        ],\n",
       "       [0.04325363, 0.05958602, 0.11533683, 0.12670118, 0.1788827 ,\n",
       "        0.21484287, 0.25390264, 0.30500835, 0.32422638, 0.3309937 ,\n",
       "        0.34953076, 0.3935936 , 0.39472306, 0.44978872, 0.47553933,\n",
       "        0.51796085, 0.5529527 , 0.5761397 , 0.60763067, 0.6184671 ,\n",
       "        0.67436814, 0.6785779 , 0.71467334, 0.73235255, 0.7543364 ,\n",
       "        0.7630079 , 0.81424797, 0.85416824, 0.89458865, 0.9481624 ,\n",
       "        0.9805651 , 1.        ],\n",
       "       [0.05606657, 0.07674257, 0.09491153, 0.14055155, 0.17322065,\n",
       "        0.20361045, 0.21197739, 0.26058176, 0.30629367, 0.34672704,\n",
       "        0.3535791 , 0.39070216, 0.42792842, 0.47034413, 0.4886542 ,\n",
       "        0.5140518 , 0.5253332 , 0.58193415, 0.5887662 , 0.61246794,\n",
       "        0.6144505 , 0.6660671 , 0.66921264, 0.72725385, 0.7699593 ,\n",
       "        0.7807042 , 0.806942  , 0.83794206, 0.8961643 , 0.90236896,\n",
       "        0.9575327 , 1.        ],\n",
       "       [0.03768698, 0.04411303, 0.06899359, 0.1002932 , 0.14641519,\n",
       "        0.1676003 , 0.19432348, 0.23008077, 0.2735068 , 0.27817532,\n",
       "        0.29465753, 0.3223256 , 0.35312283, 0.38121423, 0.42325893,\n",
       "        0.44655383, 0.50170386, 0.54738694, 0.5958852 , 0.6375358 ,\n",
       "        0.67886233, 0.6820964 , 0.72917616, 0.7823195 , 0.8199159 ,\n",
       "        0.86472267, 0.86670214, 0.8927285 , 0.90240633, 0.9453804 ,\n",
       "        0.98051864, 1.        ],\n",
       "       [0.05950966, 0.06489205, 0.09936447, 0.14235073, 0.15536149,\n",
       "        0.20144236, 0.21180575, 0.23681407, 0.28809577, 0.29863143,\n",
       "        0.35058114, 0.3693197 , 0.40933123, 0.4413149 , 0.49492627,\n",
       "        0.5561215 , 0.57874066, 0.60256547, 0.6063302 , 0.6399816 ,\n",
       "        0.6819874 , 0.7093936 , 0.7558273 , 0.75840205, 0.7622047 ,\n",
       "        0.8097016 , 0.8703873 , 0.9009919 , 0.93073666, 0.9312335 ,\n",
       "        0.97831154, 1.        ],\n",
       "       [0.0596805 , 0.0847448 , 0.08710743, 0.11484815, 0.15712138,\n",
       "        0.18695606, 0.24350125, 0.26978132, 0.27630618, 0.2799365 ,\n",
       "        0.28355676, 0.3179006 , 0.38414547, 0.42282426, 0.4746995 ,\n",
       "        0.51648337, 0.5564684 , 0.5831468 , 0.5895303 , 0.6080541 ,\n",
       "        0.61815923, 0.6327928 , 0.67030454, 0.6802936 , 0.6856984 ,\n",
       "        0.7484153 , 0.78237504, 0.81651527, 0.82325155, 0.89196354,\n",
       "        0.9502283 , 1.        ],\n",
       "       [0.05932207, 0.08548257, 0.10110568, 0.13439292, 0.17803307,\n",
       "        0.1966141 , 0.22549267, 0.25537536, 0.29162383, 0.2916594 ,\n",
       "        0.3105123 , 0.35920614, 0.40269622, 0.4335744 , 0.49514782,\n",
       "        0.55572754, 0.6079855 , 0.6350631 , 0.6702892 , 0.7169167 ,\n",
       "        0.75746334, 0.8004163 , 0.80639964, 0.82505953, 0.8276519 ,\n",
       "        0.8824576 , 0.88679457, 0.9143415 , 0.91956437, 0.9210189 ,\n",
       "        0.9503542 , 1.        ],\n",
       "       [0.04534127, 0.07795712, 0.1307632 , 0.15762381, 0.1988953 ,\n",
       "        0.24698181, 0.26836634, 0.27272162, 0.3019612 , 0.34174109,\n",
       "        0.38781345, 0.39096364, 0.41374055, 0.43884963, 0.47148788,\n",
       "        0.5143096 , 0.5528758 , 0.5739928 , 0.61733544, 0.64160067,\n",
       "        0.6777185 , 0.7304761 , 0.7666757 , 0.81562036, 0.818188  ,\n",
       "        0.8192516 , 0.8613552 , 0.863661  , 0.9028524 , 0.950313  ,\n",
       "        0.9799655 , 1.        ],\n",
       "       [0.0502242 , 0.07026559, 0.1176841 , 0.15915912, 0.20949082,\n",
       "        0.25100672, 0.25444344, 0.30313343, 0.32100037, 0.32789704,\n",
       "        0.37142575, 0.38587207, 0.3986697 , 0.39905533, 0.44671333,\n",
       "        0.48434383, 0.5232239 , 0.56579405, 0.58162934, 0.62692916,\n",
       "        0.6738261 , 0.7135298 , 0.7188496 , 0.76778305, 0.7818824 ,\n",
       "        0.8207586 , 0.8252376 , 0.87088454, 0.91921407, 0.92145026,\n",
       "        0.96939343, 1.        ],\n",
       "       [0.06011614, 0.09476296, 0.13064167, 0.18654531, 0.23844346,\n",
       "        0.24002098, 0.284704  , 0.2992876 , 0.31600744, 0.34575495,\n",
       "        0.38186735, 0.40282214, 0.43232635, 0.46134752, 0.51055586,\n",
       "        0.5182943 , 0.55312127, 0.6015953 , 0.62335944, 0.64731485,\n",
       "        0.6597734 , 0.71879023, 0.7326959 , 0.75533754, 0.78669757,\n",
       "        0.8268788 , 0.8372659 , 0.85112053, 0.8779341 , 0.9143303 ,\n",
       "        0.9412588 , 1.        ],\n",
       "       [0.05238984, 0.06235164, 0.10527691, 0.1433757 , 0.18109448,\n",
       "        0.23088188, 0.27270555, 0.31087738, 0.34327272, 0.36108345,\n",
       "        0.37122747, 0.40749484, 0.4215812 , 0.430471  , 0.4485481 ,\n",
       "        0.49867126, 0.52617913, 0.5493991 , 0.5599854 , 0.61346555,\n",
       "        0.6679484 , 0.6794793 , 0.68334985, 0.7041296 , 0.74525094,\n",
       "        0.7750407 , 0.7963531 , 0.83340275, 0.8621136 , 0.8984369 ,\n",
       "        0.94772756, 1.        ],\n",
       "       [0.04298967, 0.06661541, 0.09719363, 0.1565763 , 0.20296027,\n",
       "        0.21567892, 0.22374849, 0.2449156 , 0.28540447, 0.33640575,\n",
       "        0.3669415 , 0.384443  , 0.3974256 , 0.42965657, 0.47165558,\n",
       "        0.500982  , 0.5480016 , 0.5613225 , 0.60001945, 0.64080274,\n",
       "        0.6482751 , 0.6923611 , 0.74783206, 0.8049329 , 0.8579467 ,\n",
       "        0.8762199 , 0.88759625, 0.9255574 , 0.9692156 , 0.97082794,\n",
       "        0.97638303, 1.        ],\n",
       "       [0.04966734, 0.08679967, 0.12364994, 0.13565062, 0.16003475,\n",
       "        0.19137779, 0.19414793, 0.25149822, 0.30955708, 0.31845137,\n",
       "        0.3555165 , 0.3796848 , 0.42000514, 0.43867886, 0.46650794,\n",
       "        0.5254918 , 0.5434185 , 0.5697327 , 0.58319294, 0.594392  ,\n",
       "        0.6392785 , 0.6443259 , 0.67534184, 0.71465415, 0.75128335,\n",
       "        0.79731274, 0.83216536, 0.8743547 , 0.90797174, 0.9327403 ,\n",
       "        0.9784507 , 1.        ],\n",
       "       [0.0558432 , 0.10728544, 0.12848371, 0.1426999 , 0.14942944,\n",
       "        0.19074711, 0.23638129, 0.27833647, 0.3262461 , 0.34367737,\n",
       "        0.39862722, 0.40045565, 0.42314813, 0.45042998, 0.49768257,\n",
       "        0.54486644, 0.6006211 , 0.61349225, 0.6448615 , 0.66329795,\n",
       "        0.6839379 , 0.7357662 , 0.77618366, 0.79629105, 0.8501804 ,\n",
       "        0.8750546 , 0.9080199 , 0.93920934, 0.9529946 , 0.9780632 ,\n",
       "        0.99718374, 1.        ],\n",
       "       [0.06331592, 0.07768341, 0.14131898, 0.18106917, 0.22733733,\n",
       "        0.27426106, 0.29873112, 0.33576903, 0.3532606 , 0.39853865,\n",
       "        0.40911177, 0.47315544, 0.51427054, 0.5694171 , 0.62326974,\n",
       "        0.6452816 , 0.66794413, 0.67524034, 0.67797834, 0.68613774,\n",
       "        0.7158306 , 0.7656763 , 0.7748668 , 0.8067328 , 0.8614894 ,\n",
       "        0.86800975, 0.8758882 , 0.9020135 , 0.9042882 , 0.96507144,\n",
       "        0.9987432 , 1.        ],\n",
       "       [0.07008265, 0.11992272, 0.14131771, 0.1758269 , 0.20224053,\n",
       "        0.23617746, 0.30428508, 0.37299183, 0.42436218, 0.42673743,\n",
       "        0.4786196 , 0.49550566, 0.49984804, 0.5358074 , 0.5984836 ,\n",
       "        0.61317074, 0.6172838 , 0.63646555, 0.64185923, 0.7124027 ,\n",
       "        0.71296614, 0.71771854, 0.7621458 , 0.77562433, 0.84489703,\n",
       "        0.8614843 , 0.88044834, 0.8886483 , 0.9038336 , 0.9326542 ,\n",
       "        0.9821879 , 1.        ],\n",
       "       [0.06100729, 0.12200464, 0.16621014, 0.19546479, 0.19855532,\n",
       "        0.2430192 , 0.2746701 , 0.27649304, 0.2953305 , 0.32034284,\n",
       "        0.3595191 , 0.40921783, 0.4480694 , 0.47781652, 0.4870863 ,\n",
       "        0.4987519 , 0.5560668 , 0.56869155, 0.5866345 , 0.6038223 ,\n",
       "        0.6537696 , 0.6913778 , 0.7499052 , 0.76057625, 0.7957682 ,\n",
       "        0.8205264 , 0.8403293 , 0.88148075, 0.8831711 , 0.93467647,\n",
       "        0.9476799 , 1.        ],\n",
       "       [0.05137419, 0.06276527, 0.11227157, 0.13869631, 0.14001203,\n",
       "        0.17629485, 0.21482512, 0.25812045, 0.30555347, 0.32996362,\n",
       "        0.3610086 , 0.416923  , 0.4407499 , 0.45872036, 0.5145704 ,\n",
       "        0.5393061 , 0.59542173, 0.614518  , 0.6536387 , 0.67379177,\n",
       "        0.69571257, 0.74417025, 0.7452183 , 0.791461  , 0.80954486,\n",
       "        0.8585211 , 0.8768589 , 0.9251416 , 0.92981446, 0.9474878 ,\n",
       "        0.95551306, 1.        ],\n",
       "       [0.06720861, 0.12659577, 0.1464907 , 0.14977084, 0.2169254 ,\n",
       "        0.25212485, 0.27891   , 0.3320839 , 0.3902841 , 0.44700983,\n",
       "        0.46028355, 0.47822145, 0.48297024, 0.4944561 , 0.5560843 ,\n",
       "        0.5817231 , 0.58224946, 0.6049842 , 0.6445881 , 0.68558025,\n",
       "        0.71213835, 0.7358857 , 0.77211314, 0.79471225, 0.8001408 ,\n",
       "        0.82332516, 0.8649263 , 0.9321943 , 0.9328988 , 0.9551522 ,\n",
       "        0.9626259 , 1.        ],\n",
       "       [0.0462605 , 0.09465507, 0.10747076, 0.1084224 , 0.1151533 ,\n",
       "        0.13787962, 0.1409067 , 0.16951628, 0.20434308, 0.23786518,\n",
       "        0.27440774, 0.32552963, 0.33649436, 0.37969676, 0.38687062,\n",
       "        0.4265309 , 0.4337923 , 0.46471393, 0.5165435 , 0.55046546,\n",
       "        0.5915571 , 0.6417565 , 0.6705597 , 0.72133845, 0.7556182 ,\n",
       "        0.7712576 , 0.81149083, 0.85411465, 0.8717596 , 0.9081374 ,\n",
       "        0.9510638 , 1.        ]], dtype=float32)"
      ]
     },
     "execution_count": 67,
     "metadata": {},
     "output_type": "execute_result"
    }
   ],
   "source": [
    "tmp"
   ]
  },
  {
   "cell_type": "code",
   "execution_count": null,
   "metadata": {},
   "outputs": [],
   "source": []
  }
 ],
 "metadata": {
  "kernelspec": {
   "display_name": "Python 3",
   "language": "python",
   "name": "python3"
  },
  "language_info": {
   "codemirror_mode": {
    "name": "ipython",
    "version": 3
   },
   "file_extension": ".py",
   "mimetype": "text/x-python",
   "name": "python",
   "nbconvert_exporter": "python",
   "pygments_lexer": "ipython3",
   "version": "3.11.7"
  }
 },
 "nbformat": 4,
 "nbformat_minor": 2
}
