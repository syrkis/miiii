{
 "cells": [
  {
   "cell_type": "markdown",
   "metadata": {},
   "source": [
    "# MIIII"
   ]
  },
  {
   "cell_type": "code",
   "execution_count": null,
   "metadata": {},
   "outputs": [],
   "source": [
    "import jax.numpy as jnp\n",
    "from jax import random\n",
    "import jax\n",
    "from oeis import oeis\n",
    "import optax\n",
    "from functools import partial\n",
    "from sklearn.metrics import confusion_matrix, f1_score\n",
    "from matplotlib import pyplot as plt\n",
    "import miiii"
   ]
  },
  {
   "cell_type": "code",
   "execution_count": null,
   "metadata": {},
   "outputs": [],
   "source": [
    "def predict(apply_fn, params, x, _=random.PRNGKey(0)):\n",
    "    return (jax.nn.sigmoid(apply_fn(params, _, x, 0.0)) > 0.5).astype(jnp.int32)"
   ]
  },
  {
   "cell_type": "code",
   "execution_count": null,
   "metadata": {},
   "outputs": [],
   "source": [
    "# config and init\n",
    "conf, (rng, key) = miiii.get_conf(), random.split(random.PRNGKey(0))\n",
    "\n",
    "data = miiii.prime_fn(conf.n, partial(miiii.base_n, conf.base))\n",
    "params = miiii.init_fn(key, conf)"
   ]
  },
  {
   "cell_type": "code",
   "execution_count": null,
   "metadata": {},
   "outputs": [],
   "source": [
    "# setup and train\n",
    "apply_fn = miiii.make_apply_fn(miiii.vaswani_fn)\n",
    "train_fn, opt_state = miiii.init_train(apply_fn, params, conf, *data)\n",
    "(params, opt_state), losses = train_fn(conf.epochs, rng, (params, opt_state))"
   ]
  },
  {
   "cell_type": "code",
   "execution_count": null,
   "metadata": {},
   "outputs": [],
   "source": [
    "# evaluate\n",
    "def make_plots(losses, conf, params):\n",
    "    (train_x, train_y), (valid_x, valid_y) = data\n",
    "    train_pred = predict(apply_fn, params, train_x)\n",
    "    valid_pred = predict(apply_fn, params, valid_x)\n",
    "    miiii.polar_plot(train_y, train_pred, conf, \"train\")\n",
    "    miiii.polar_plot(valid_y, valid_pred, conf, \"valid\", offset=train_y.shape[0])\n",
    "    miiii.curve_plot(losses, conf, params)\n",
    "\n",
    "\n",
    "make_plots(losses, conf, params)"
   ]
  },
  {
   "cell_type": "code",
   "execution_count": null,
   "metadata": {},
   "outputs": [],
   "source": []
  },
  {
   "cell_type": "code",
   "execution_count": null,
   "metadata": {},
   "outputs": [],
   "source": []
  }
 ],
 "metadata": {
  "kernelspec": {
   "display_name": "Python 3",
   "language": "python",
   "name": "python3"
  },
  "language_info": {
   "codemirror_mode": {
    "name": "ipython",
    "version": 3
   },
   "file_extension": ".py",
   "mimetype": "text/x-python",
   "name": "python",
   "nbconvert_exporter": "python",
   "pygments_lexer": "ipython3",
   "version": "3.11.7"
  }
 },
 "nbformat": 4,
 "nbformat_minor": 2
}
