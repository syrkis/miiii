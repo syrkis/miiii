{
 "cells": [
  {
   "cell_type": "markdown",
   "metadata": {},
   "source": [
    "# MIIII"
   ]
  },
  {
   "cell_type": "code",
   "execution_count": null,
   "metadata": {},
   "outputs": [],
   "source": [
    "from matplotlib import pyplot as plt\n",
    "from functools import partial\n",
    "from jax import random\n",
    "import numpy as np\n",
    "import darkdetect\n",
    "import miiiii"
   ]
  },
  {
   "cell_type": "code",
   "execution_count": null,
   "metadata": {},
   "outputs": [],
   "source": [
    "# set font to computer modern\n",
    "plt.rcParams[\"font.family\"] = \"serif\""
   ]
  },
  {
   "cell_type": "code",
   "execution_count": null,
   "metadata": {},
   "outputs": [],
   "source": [
    "seed = 0\n",
    "cfg, (rng, key) = miiiii.get_conf(), random.split(random.PRNGKey(seed))\n",
    "ns = partial(miiiii.base_ns, miiiii.digit_fn)\n",
    "train_data, valid_data = miiiii.prime_fn(cfg.n, cfg.base, ns, rng)\n",
    "params = miiiii.init_fn(key, cfg, *train_data)\n",
    "\n",
    "# train\n",
    "apply_fn = miiiii.make_apply_fn(miiiii.vaswani_fn)\n",
    "args = (apply_fn, params, cfg, miiiii.alpha_fn, train_data, valid_data)\n",
    "train_fn, state = miiiii.init_train(*args)\n",
    "(params, opt_state, ema_grads), metrics = train_fn(cfg.epochs, rng, state)"
   ]
  },
  {
   "cell_type": "code",
   "execution_count": null,
   "metadata": {},
   "outputs": [],
   "source": [
    "_, _, train_metrics, valid_metrics = metrics\n",
    "train_loss, train_f1, train_prec, train_rec, train_acc = train_metrics\n",
    "valid_loss, valid_f1, valid_prec, valid_rec, valid_acc = valid_metrics"
   ]
  },
  {
   "cell_type": "code",
   "execution_count": null,
   "metadata": {},
   "outputs": [],
   "source": [
    "metric_names = {\n",
    "    \"loss\": \"Focal Loss\",\n",
    "    \"acc\": \"Accuracy\",\n",
    "    \"prec\": \"Precision\",\n",
    "    \"rec\": \"Recall\",\n",
    "    \"f1\": \"F1 Score\",\n",
    "}\n",
    "\n",
    "\n",
    "def hinton_sub_plot(matrix, cfg, metric, idx, ax=None):\n",
    "    # fig, ax = plt.subplots(figsize=(10, 10), dpi=300) if ax is None else (fig, ax)\n",
    "    # metric, split = metric_names[metric.split(\"_\")[1]], metric.split(\"_\")[0]\n",
    "    bg = \"black\" if darkdetect.isDark() else \"white\"\n",
    "    fg = \"white\" if darkdetect.isDark() else \"black\"\n",
    "    metric = metric_names[metric]\n",
    "    ax.patch.set_facecolor(bg)\n",
    "    ax.set_aspect(\"equal\", \"box\")\n",
    "    ax.xaxis.set_major_locator(plt.NullLocator())\n",
    "    ax.yaxis.set_major_locator(plt.NullLocator())\n",
    "    for jdx, ((x, y), w) in enumerate(np.ndenumerate(matrix)):\n",
    "        s = np.sqrt(w)\n",
    "        # if idx is last make color red\n",
    "        c = \"#da3527\" if (jdx % matrix.shape[1]) == matrix.shape[1] - 1 else fg\n",
    "        rect = plt.Rectangle([x - s / 2, y - s / 2], s, s, facecolor=c, edgecolor=c)\n",
    "        ax.add_patch(rect)\n",
    "    ax.autoscale_view()\n",
    "    # set ylabel on right side\n",
    "    ax.set_ylabel(metric, color=fg, rotation=90)\n",
    "    if idx == 2:\n",
    "        ax.set_xlabel(\"Time\", color=fg)\n",
    "    # ax.set_xticks(np.arange(matrix.shape[0], step=cfg.epochs // 20))\n",
    "    for spine in ax.spines.values():\n",
    "        spine.set_visible(False)\n",
    "\n",
    "\n",
    "# plot with 1 col and 4 rows\n",
    "def hinton_plot(metrics, name):\n",
    "    fig, axes = plt.subplots(3, 1, figsize=(9, 12), dpi=300)\n",
    "    bg = \"black\" if darkdetect.isDark() else \"white\"\n",
    "    fg = \"white\" if darkdetect.isDark() else \"black\"\n",
    "    fig.patch.set_facecolor(bg)\n",
    "    metric_names = [\"f1\", \"prec\", \"rec\"]\n",
    "    # hinton_sub_plot(metric, cfg, met_name, idx, ax=axes[idx])\n",
    "    axes[0].set_title(name, color=fg)\n",
    "    for idx, (ax, metric) in enumerate(zip(axes.flatten(), metrics)):\n",
    "        hinton_sub_plot(metric, cfg, metric_names[idx], idx, ax=ax)\n",
    "    plt.tight_layout()\n",
    "    # write \"Task\" on right side (bottom of text should be towards the left (rotated 270))\n",
    "    fig.text(0.975, 0.5, \"Task\", ha=\"center\", va=\"center\", rotation=90, color=fg)\n",
    "    plt.savefig(f\"figs/{name}.pdf\", bbox_inches=\"tight\", facecolor=bg)"
   ]
  },
  {
   "cell_type": "code",
   "execution_count": null,
   "metadata": {},
   "outputs": [],
   "source": [
    "hinton_plot(train_metrics[1:-1], \"Training Metrics\")"
   ]
  },
  {
   "cell_type": "code",
   "execution_count": null,
   "metadata": {},
   "outputs": [],
   "source": [
    "hinton_plot(valid_metrics[1:-1], \"Validation Metrics\")"
   ]
  },
  {
   "cell_type": "code",
   "execution_count": null,
   "metadata": {},
   "outputs": [],
   "source": []
  },
  {
   "cell_type": "code",
   "execution_count": null,
   "metadata": {},
   "outputs": [],
   "source": []
  }
 ],
 "metadata": {
  "kernelspec": {
   "display_name": "Python 3",
   "language": "python",
   "name": "python3"
  },
  "language_info": {
   "codemirror_mode": {
    "name": "ipython",
    "version": 3
   },
   "file_extension": ".py",
   "mimetype": "text/x-python",
   "name": "python",
   "nbconvert_exporter": "python",
   "pygments_lexer": "ipython3",
   "version": "3.11.7"
  }
 },
 "nbformat": 4,
 "nbformat_minor": 2
}
