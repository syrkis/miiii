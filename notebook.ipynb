{
 "cells": [
  {
   "cell_type": "code",
   "execution_count": 2,
   "metadata": {},
   "outputs": [],
   "source": [
    "import jax.numpy as jnp\n",
    "from jax import grad, jit, vmap\n",
    "\n",
    "from functional import partial\n",
    "\n",
    "import pandas as pd\n",
    "from src.data import prime_fn\n",
    "from einops import rearrange"
   ]
  },
  {
   "cell_type": "code",
   "execution_count": 18,
   "metadata": {},
   "outputs": [],
   "source": [
    "def primes_fn(d):\n",
    "    prime_iter = prime_fn()\n",
    "    primes     = []\n",
    "    prime      = next(prime_iter)\n",
    "    while prime < 10 ** d:\n",
    "        if prime >= 10 ** (d - 1):\n",
    "            primes.append(prime)\n",
    "        prime = next(prime_iter)\n",
    "    return jnp.array(primes).astype(jnp.int32)\n",
    "\n",
    "def data_fn(d):\n",
    "    primes  = primes_fn(d)                              # (n_primes,  )\n",
    "    context = context_fn(d)                             # (10 ** d , 4)\n",
    "    y = vmap(lambda row: target_fn(primes, row))(context)  # (10 ** d, 4)\n",
    "    x = vmap(token_fn)(context)                         # (10 ** d, 4)\n",
    "    return x, y \n",
    "\n",
    "def token_fn(row):\n",
    "    # [1001, 1003, 1007, 1009] -> [1, 0, 0, 1, 1, 0, 0, 3, 1, 0, 0, 7, 1, 0, 0, 9]\n",
    "    return jnp.array(rearrange(row, 'a b -> b a')).flatten()\n",
    "\n",
    "def target_fn(primes, row):\n",
    "    # return vector of 4 booleans, indicating if the row contains the prime numbers\n",
    "    return jnp.any(row[None, :] == primes[:, None], axis=0).astype(jnp.int32)\n",
    "\n",
    "def context_fn(d):\n",
    "    context = jnp.arange(10 ** (d - 1), 10 ** d).reshape(-1, 10)\n",
    "    context = context[:, [1, 3, 7, 9]]\n",
    "    return context"
   ]
  },
  {
   "cell_type": "code",
   "execution_count": 22,
   "metadata": {},
   "outputs": [
    {
     "data": {
      "text/plain": [
       "Array([[1001, 1003, 1007, 1009],\n",
       "       [1011, 1013, 1017, 1019],\n",
       "       [1021, 1023, 1027, 1029],\n",
       "       ...,\n",
       "       [9971, 9973, 9977, 9979],\n",
       "       [9981, 9983, 9987, 9989],\n",
       "       [9991, 9993, 9997, 9999]], dtype=int32)"
      ]
     },
     "execution_count": 22,
     "metadata": {},
     "output_type": "execute_result"
    }
   ],
   "source": [
    "x, y = jit(partial(data_fn, 4))()\n",
    "x"
   ]
  },
  {
   "cell_type": "code",
   "execution_count": null,
   "metadata": {},
   "outputs": [],
   "source": []
  },
  {
   "cell_type": "code",
   "execution_count": null,
   "metadata": {},
   "outputs": [],
   "source": []
  }
 ],
 "metadata": {
  "kernelspec": {
   "display_name": "Python 3",
   "language": "python",
   "name": "python3"
  },
  "language_info": {
   "codemirror_mode": {
    "name": "ipython",
    "version": 3
   },
   "file_extension": ".py",
   "mimetype": "text/x-python",
   "name": "python",
   "nbconvert_exporter": "python",
   "pygments_lexer": "ipython3",
   "version": "3.11.7"
  }
 },
 "nbformat": 4,
 "nbformat_minor": 2
}
