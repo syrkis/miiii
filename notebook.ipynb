{
 "cells": [
  {
   "cell_type": "code",
   "execution_count": 1,
   "metadata": {},
   "outputs": [],
   "source": [
    "import jax, optax, yaml\n",
    "import jax.numpy as jnp\n",
    "from jax import jit, random, tree_util\n",
    "from jax.lib import xla_client\n",
    "from functional import partial\n",
    "from tqdm import tqdm\n",
    "import numpy as np\n",
    "\n",
    "\n",
    "from src.data import data_fn\n",
    "from src.model import init_fn, apply_fn\n",
    "import esch"
   ]
  },
  {
   "cell_type": "code",
   "execution_count": 2,
   "metadata": {},
   "outputs": [],
   "source": [
    "with open('config.yaml', 'r') as f:\n",
    "    conf = yaml.load(f, Loader=yaml.FullLoader)"
   ]
  },
  {
   "cell_type": "code",
   "execution_count": 3,
   "metadata": {},
   "outputs": [],
   "source": [
    "rng, key = random.split(random.PRNGKey(0))\n",
    "opt      = optax.lion(conf['lr'], weight_decay=conf['weight_decay'])\n",
    "params   = init_fn(key, conf)\n",
    "state    = opt.init(params)\n",
    "x, y     = data_fn(conf)"
   ]
  },
  {
   "cell_type": "code",
   "execution_count": 4,
   "metadata": {},
   "outputs": [],
   "source": [
    "def loss_fn(params, x, y):  # todo: weight by prime frquency\n",
    "    y_pred = apply_fn(params, x)\n",
    "    loss   = jnp.square(y_pred - y).mean()\n",
    "    return loss"
   ]
  },
  {
   "cell_type": "code",
   "execution_count": 5,
   "metadata": {},
   "outputs": [],
   "source": [
    "@jit\n",
    "def update_fn(params, state, x, y):\n",
    "    loss, grads    = jax.value_and_grad(loss_fn)(params, x, y)\n",
    "    updates, state = opt.update(grads, state, params)\n",
    "    params         = optax.apply_updates(params, updates)\n",
    "    return params, state, loss"
   ]
  },
  {
   "cell_type": "code",
   "execution_count": 6,
   "metadata": {},
   "outputs": [
    {
     "name": "stderr",
     "output_type": "stream",
     "text": [
      "  0%|          | 0/20 [00:00<?, ?it/s]"
     ]
    },
    {
     "name": "stderr",
     "output_type": "stream",
     "text": [
      "100%|██████████| 20/20 [00:00<00:00, 36.51it/s]\n"
     ]
    }
   ],
   "source": [
    "pbar   = tqdm(range(conf['epochs']))\n",
    "losses = jnp.zeros(conf['epochs'])\n",
    "for epoch in pbar:\n",
    "    params, state, loss = update_fn(params, state, x, y)\n",
    "    losses              = losses.at[epoch].add(loss)"
   ]
  },
  {
   "cell_type": "code",
   "execution_count": 7,
   "metadata": {},
   "outputs": [
    {
     "data": {
      "application/vnd.plotly.v1+json": {
       "config": {
        "plotlyServerURL": "https://plot.ly"
       },
       "data": [
        {
         "line": {
          "color": "black",
          "dash": "solid",
          "width": 2
         },
         "mode": "lines",
         "type": "scatter",
         "x": [
          0,
          1,
          2,
          3,
          4,
          5,
          6,
          7,
          8,
          9,
          10,
          11,
          12,
          13,
          14,
          15,
          16,
          17,
          18,
          19
         ],
         "y": [
          0.18298271298408508,
          0.18207359313964844,
          0.18109801411628723,
          0.1799837052822113,
          0.17868417501449585,
          0.17716741561889648,
          0.17538700997829437,
          0.17333956062793732,
          0.17101775109767914,
          0.16842857003211975,
          0.1655920147895813,
          0.16255801916122437,
          0.1594114750623703,
          0.1562885046005249,
          0.15339654684066772,
          0.15104256570339203,
          0.14966611564159393,
          0.1498854011297226,
          0.1522037535905838,
          0.1502968668937683
         ]
        },
        {
         "line": {
          "color": "black",
          "dash": "dash",
          "width": 2
         },
         "mode": "lines",
         "type": "scatter",
         "x": [
          0,
          1,
          2,
          3,
          4,
          5,
          6,
          7,
          8,
          9,
          10,
          11,
          12,
          13,
          14,
          15,
          16,
          17,
          18,
          19
         ],
         "y": [
          0.17298270761966705,
          0.1720735877752304,
          0.1710980087518692,
          0.16998369991779327,
          0.16868416965007782,
          0.16716741025447845,
          0.16538700461387634,
          0.1633395552635193,
          0.1610177457332611,
          0.15842856466770172,
          0.15559200942516327,
          0.15255801379680634,
          0.14941146969795227,
          0.14628849923610687,
          0.1433965414762497,
          0.141042560338974,
          0.1396661102771759,
          0.13988539576530457,
          0.14220374822616577,
          0.14029686152935028
         ]
        },
        {
         "line": {
          "color": "black",
          "dash": "dot",
          "width": 2
         },
         "mode": "lines",
         "type": "scatter",
         "x": [
          0,
          1,
          2,
          3,
          4,
          5,
          6,
          7,
          8,
          9,
          10,
          11,
          12,
          13,
          14,
          15,
          16,
          17,
          18,
          19
         ],
         "y": [
          0.1929827183485031,
          0.19207359850406647,
          0.19109801948070526,
          0.18998371064662933,
          0.18868418037891388,
          0.18716742098331451,
          0.1853870153427124,
          0.18333956599235535,
          0.18101775646209717,
          0.17842857539653778,
          0.17559202015399933,
          0.1725580245256424,
          0.16941148042678833,
          0.16628850996494293,
          0.16339655220508575,
          0.16104257106781006,
          0.15966612100601196,
          0.15988540649414062,
          0.16220375895500183,
          0.16029687225818634
         ]
        },
        {
         "line": {
          "color": "black",
          "dash": "dashdot",
          "width": 2
         },
         "mode": "lines",
         "type": "scatter",
         "x": [
          0,
          1,
          2,
          3,
          4,
          5,
          6,
          7,
          8,
          9,
          10,
          11,
          12,
          13,
          14,
          15,
          16,
          17,
          18,
          19
         ],
         "y": [
          0.20298270881175995,
          0.2020735889673233,
          0.2010980099439621,
          0.19998370110988617,
          0.19868417084217072,
          0.19716741144657135,
          0.19538700580596924,
          0.19333955645561218,
          0.191017746925354,
          0.18842856585979462,
          0.18559201061725616,
          0.18255801498889923,
          0.17941147089004517,
          0.17628850042819977,
          0.1733965426683426,
          0.1710425615310669,
          0.1696661114692688,
          0.16988539695739746,
          0.17220374941825867,
          0.17029686272144318
         ]
        }
       ],
       "layout": {
        "template": {
         "layout": {
          "font": {
           "color": "black",
           "family": "Times New Roman, serif",
           "size": 18
          },
          "paper_bgcolor": "white",
          "plot_bgcolor": "white",
          "title": {
           "font": {
            "color": "black",
            "size": 22
           },
           "x": 0.5,
           "xanchor": "center"
          },
          "xaxis": {
           "linecolor": "black",
           "linewidth": 1,
           "mirror": true,
           "showgrid": false,
           "showline": true,
           "tickcolor": "black",
           "tickfont": {
            "color": "black",
            "size": 14
           },
           "ticks": "outside",
           "title": {
            "font": {
             "color": "black",
             "size": 18
            },
            "standoff": 15
           }
          },
          "yaxis": {
           "linecolor": "black",
           "linewidth": 1,
           "mirror": true,
           "showgrid": false,
           "showline": true,
           "tickcolor": "black",
           "tickfont": {
            "color": "black",
            "size": 14
           },
           "ticks": "outside",
           "title": {
            "font": {
             "color": "black",
             "size": 18
            },
            "standoff": 15
           }
          }
         }
        },
        "title": {
         "text": "Training curves"
        },
        "xaxis": {
         "title": {
          "text": "Epoch"
         }
        },
        "yaxis": {
         "title": {
          "text": "MSE"
         }
        }
       }
      }
     },
     "metadata": {},
     "output_type": "display_data"
    }
   ],
   "source": [
    "info = dict(title='Training curves', xlab='Epoch', ylab='MSE')\n",
    "fig  = esch.curves_fn([losses, losses - 0.01, losses + 0.01, losses+ 0.02], info)\n",
    "fig.show()"
   ]
  },
  {
   "cell_type": "code",
   "execution_count": null,
   "metadata": {},
   "outputs": [],
   "source": []
  }
 ],
 "metadata": {
  "kernelspec": {
   "display_name": "Python 3",
   "language": "python",
   "name": "python3"
  },
  "language_info": {
   "codemirror_mode": {
    "name": "ipython",
    "version": 3
   },
   "file_extension": ".py",
   "mimetype": "text/x-python",
   "name": "python",
   "nbconvert_exporter": "python",
   "pygments_lexer": "ipython3",
   "version": "3.11.7"
  }
 },
 "nbformat": 4,
 "nbformat_minor": 2
}
