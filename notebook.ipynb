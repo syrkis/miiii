{
 "cells": [
  {
   "cell_type": "code",
   "execution_count": 5,
   "metadata": {},
   "outputs": [],
   "source": [
    "import jax, optax, yaml\n",
    "import jax.numpy as jnp\n",
    "from jax import grad, jit, vmap, random\n",
    "from jax.tree_util import tree_flatten\n",
    "\n",
    "from einops import rearrange\n",
    "from functional import partial\n",
    "\n",
    "import numpy as np\n",
    "import yaml\n",
    "import numpy as np\n",
    "from tqdm import tqdm\n",
    "from src.data import data_fn, prime_fn"
   ]
  },
  {
   "cell_type": "code",
   "execution_count": 36,
   "metadata": {},
   "outputs": [],
   "source": [
    "def get_config():\n",
    "    pass\n",
    "\n",
    "n      = 100000\n",
    "base   = 10\n",
    "n_toks = base"
   ]
  },
  {
   "cell_type": "code",
   "execution_count": 9,
   "metadata": {},
   "outputs": [],
   "source": [
    "rng, key = random.split(random.PRNGKey(0))\n",
    "data     = data_fn(key, n, base)"
   ]
  },
  {
   "cell_type": "code",
   "execution_count": 10,
   "metadata": {},
   "outputs": [],
   "source": [
    "with open('config.yaml', 'r') as f:\n",
    "    config = yaml.load(f, Loader=yaml.FullLoader)"
   ]
  },
  {
   "cell_type": "code",
   "execution_count": 11,
   "metadata": {},
   "outputs": [],
   "source": [
    "def apply_fn(params, x):\n",
    "    x = embed_fn(params, x)\n",
    "    for block in params['blocks']:\n",
    "        x = head_fn(block['head'], x)  # + mlp_fn(block['mlp'], x)\n",
    "    logits = x # @ params['lm_head']                       # B x T x V\n",
    "    return logits\n",
    "\n",
    "def head_fn(params, x):\n",
    "    x = [head_apply_fn(params[f'head_{i}'], x) for i in range(len(params))]\n",
    "    x = jnp.stack(x, axis=-1).mean(axis=-1)\n",
    "    return x\n",
    "\n",
    "def head_apply_fn(params, x):\n",
    "    # tril = jnp.nan_to_num(jnp.absolute(jnp.tril(jnp.ones((T, T))) - 1) * (-jnp.inf), nan=0)\n",
    "    # mask = jnp.nan_to_num(jnp.triu(jnp.ones((T, T))) * (-jnp.inf), nan=0)\n",
    "    k  = x @ params['key']                      # B x T x H\n",
    "    q  = x @ params['query']                    # B x T x H\n",
    "    z  = q @ rearrange(k, \"b t h -> b h t\")  # k.transpose(0, 2, 1)               # B x T x T\n",
    "    z /= jnp.sqrt(params['key'].shape[1])       # divide by sqrt to normalize\n",
    "    z  = params['alpha'] * np.eye(x.shape[1]) # +  params['beta'] * x              # - gamma * C  # <-- shaped attention\n",
    "    return z @ x\n",
    "    \n",
    "def mlp_fn(params, x):  # TODO: maybe switch activation\n",
    "    x = x @ params['dense1'] + params['bias1']\n",
    "    x = jax.nn.relu(x)\n",
    "    x = x @ params['dense2'] + params['bias2']\n",
    "    return x\n",
    "\n",
    "def embed_fn(params, x):\n",
    "    n  = x.shape[1]                              # num toks in sample\n",
    "    x  = params['tok_embedding'][x]              # tok embeddings\n",
    "    x += params['pos_embedding'][jnp.arange(n)]  # pos embeddings\n",
    "    return x"
   ]
  },
  {
   "cell_type": "code",
   "execution_count": 12,
   "metadata": {},
   "outputs": [],
   "source": [
    "def init_head_fn(rng, embed_dim, n_heads, scale):\n",
    "    head_size = embed_dim // n_heads\n",
    "    rng, key_key, key_value, key_query = jax.random.split(rng, 4)\n",
    "    params = {} \n",
    "    for i in range(n_heads):\n",
    "        params[f'head_{i}'] = {\n",
    "            'key'   : jax.random.normal(key_key, shape=(embed_dim, head_size)) * scale,\n",
    "            'query' : jnp.zeros((embed_dim, head_size)),\n",
    "            'alpha' : jnp.array(1),\n",
    "            'beta'  : jnp.array(0),\n",
    "            }\n",
    "    return params\n",
    "\n",
    "def init_mlp_fn(rng, embed_dim, scale=1e-2):\n",
    "    rng, key1, key2 = jax.random.split(rng, 3)\n",
    "    params = {\n",
    "        'dense1' : jax.random.normal(key1, shape=(embed_dim, 4 * embed_dim)) * scale,\n",
    "        'bias1'  : jnp.zeros((embed_dim,)),\n",
    "        'dense2' : jax.random.normal(key2, shape=(4 * embed_dim, embed_dim)) * scale,\n",
    "        'bias2'  : jnp.zeros((embed_dim,)),\n",
    "        }\n",
    "    return params\n",
    "\n",
    "def init_block_fn(rng, embed_dim, n_heads, scale):\n",
    "    rng, key1, key2 = jax.random.split(rng, 3)\n",
    "    params = {\n",
    "        'head'  : init_head_fn(key1, embed_dim, n_heads, scale),\n",
    "        'mlp'  : init_mlp_fn(key2, embed_dim, scale),\n",
    "        }\n",
    "    return params\n",
    "\n",
    "def init_fn(rng, config):\n",
    "    rng, key1, key2, key3 = jax.random.split(rng, 4)\n",
    "    params = {\n",
    "        'tok_embedding': jax.random.normal(key1, shape=(config['vocab_size'], config['embed_dim'])) * config['scale'],\n",
    "        'pos_embedding': jax.random.normal(key2, shape=(config['block_size'], config['embed_dim'])) * config['scale'],\n",
    "        'lm_head': jax.random.normal(key3, shape=(config['embed_dim'], config['vocab_size'])) * config['scale'],\n",
    "        'blocks': [init_block_fn(key1, config['embed_dim'], config['n_heads'], scale=config['scale']) for _ in range(config['n_layers'])],\n",
    "        }\n",
    "    return params"
   ]
  },
  {
   "cell_type": "code",
   "execution_count": 13,
   "metadata": {},
   "outputs": [],
   "source": [
    "def loss_fn(params, xb, yb):\n",
    "    # we cant to minimise cross entropy\n",
    "    logits = apply_fn(params, xb) # B x T x C\n",
    "    B, T, C = logits.shape\n",
    "    yb = yb.reshape(-1)\n",
    "    logits = logits.reshape(B * T, C)\n",
    "    logits = jnp.clip(logits, -100, 100)\n",
    "    loss = jnp.mean(optax.softmax_cross_entropy(logits, jax.nn.one_hot(yb, C)))\n",
    "    return loss"
   ]
  },
  {
   "cell_type": "code",
   "execution_count": 14,
   "metadata": {},
   "outputs": [],
   "source": [
    "def generate_fn(rng, params, idx, block_size, length=100, temperature=1.0):\n",
    "    for _ in tqdm(range(length)):\n",
    "        rng, key = jax.random.split(rng)\n",
    "        logits = apply_fn(params, idx[:, -block_size:])         # B x T x C\n",
    "        logits = logits[:, -1, :] / temperature                 # B x C\n",
    "        idx_new = jax.random.categorical(key, logits)[:, None]  # B x 1\n",
    "        idx = jnp.concatenate([idx, idx_new], axis=1)           # B x T + 1\n",
    "    return idx"
   ]
  },
  {
   "cell_type": "code",
   "execution_count": 15,
   "metadata": {},
   "outputs": [],
   "source": [
    "def batch_fn(rng, data):\n",
    "    while True:\n",
    "        rng, key = random.split(rng)\n",
    "        idxs = random.permutation(key, data.shape[0])\n",
    "        yield data[idxs]"
   ]
  },
  {
   "cell_type": "code",
   "execution_count": 17,
   "metadata": {},
   "outputs": [],
   "source": [
    "rng, key = random.split(random.PRNGKey(0))\n",
    "# data     = jit(partial(data_fn, d))()\n",
    "# batches  = iter(batch_fn(key, data))\n",
    "params   = init_fn(rng, config)"
   ]
  },
  {
   "cell_type": "code",
   "execution_count": null,
   "metadata": {},
   "outputs": [],
   "source": [
    "# py.plot(params['tok_embedding'], kind='density_heatmap')"
   ]
  },
  {
   "cell_type": "code",
   "execution_count": 23,
   "metadata": {},
   "outputs": [],
   "source": [
    "weights, structure = tree_flatten(params)"
   ]
  },
  {
   "cell_type": "code",
   "execution_count": 24,
   "metadata": {},
   "outputs": [
    {
     "data": {
      "text/plain": [
       "256048"
      ]
     },
     "execution_count": 24,
     "metadata": {},
     "output_type": "execute_result"
    }
   ],
   "source": [
    "sum([w.size for w in weights])"
   ]
  },
  {
   "cell_type": "code",
   "execution_count": 25,
   "metadata": {},
   "outputs": [],
   "source": [
    "import matplotlib.pyplot as plt"
   ]
  },
  {
   "cell_type": "code",
   "execution_count": 33,
   "metadata": {},
   "outputs": [
    {
     "data": {
      "text/plain": [
       "[(),\n",
       " (),\n",
       " (64, 16),\n",
       " (64, 16),\n",
       " (),\n",
       " (),\n",
       " (64, 16),\n",
       " (64, 16),\n",
       " (),\n",
       " (),\n",
       " (64, 16),\n",
       " (64, 16),\n",
       " (),\n",
       " (),\n",
       " (64, 16),\n",
       " (64, 16),\n",
       " (64,),\n",
       " (64,),\n",
       " (64, 256),\n",
       " (256, 64),\n",
       " (),\n",
       " (),\n",
       " (64, 16),\n",
       " (64, 16),\n",
       " (),\n",
       " (),\n",
       " (64, 16),\n",
       " (64, 16),\n",
       " (),\n",
       " (),\n",
       " (64, 16),\n",
       " (64, 16),\n",
       " (),\n",
       " (),\n",
       " (64, 16),\n",
       " (64, 16),\n",
       " (64,),\n",
       " (64,),\n",
       " (64, 256),\n",
       " (256, 64),\n",
       " (),\n",
       " (),\n",
       " (64, 16),\n",
       " (64, 16),\n",
       " (),\n",
       " (),\n",
       " (64, 16),\n",
       " (64, 16),\n",
       " (),\n",
       " (),\n",
       " (64, 16),\n",
       " (64, 16),\n",
       " (),\n",
       " (),\n",
       " (64, 16),\n",
       " (64, 16),\n",
       " (64,),\n",
       " (64,),\n",
       " (64, 256),\n",
       " (256, 64),\n",
       " (),\n",
       " (),\n",
       " (64, 16),\n",
       " (64, 16),\n",
       " (),\n",
       " (),\n",
       " (64, 16),\n",
       " (64, 16),\n",
       " (),\n",
       " (),\n",
       " (64, 16),\n",
       " (64, 16),\n",
       " (),\n",
       " (),\n",
       " (64, 16),\n",
       " (64, 16),\n",
       " (64,),\n",
       " (64,),\n",
       " (64, 256),\n",
       " (256, 64),\n",
       " (),\n",
       " (),\n",
       " (64, 16),\n",
       " (64, 16),\n",
       " (),\n",
       " (),\n",
       " (64, 16),\n",
       " (64, 16),\n",
       " (),\n",
       " (),\n",
       " (64, 16),\n",
       " (64, 16),\n",
       " (),\n",
       " (),\n",
       " (64, 16),\n",
       " (64, 16),\n",
       " (64,),\n",
       " (64,),\n",
       " (64, 256),\n",
       " (256, 64),\n",
       " (),\n",
       " (),\n",
       " (64, 16),\n",
       " (64, 16),\n",
       " (),\n",
       " (),\n",
       " (64, 16),\n",
       " (64, 16),\n",
       " (),\n",
       " (),\n",
       " (64, 16),\n",
       " (64, 16),\n",
       " (),\n",
       " (),\n",
       " (64, 16),\n",
       " (64, 16),\n",
       " (64,),\n",
       " (64,),\n",
       " (64, 256),\n",
       " (256, 64),\n",
       " (64, 10),\n",
       " (128, 64),\n",
       " (10, 64)]"
      ]
     },
     "execution_count": 33,
     "metadata": {},
     "output_type": "execute_result"
    }
   ],
   "source": [
    "[w.shape for w in weights]"
   ]
  },
  {
   "cell_type": "code",
   "execution_count": 35,
   "metadata": {},
   "outputs": [
    {
     "name": "stdout",
     "output_type": "stream",
     "text": [
      "PyTreeDef({'blocks': [{'head': {'head_0': {'alpha': *, 'beta': *, 'key': *, 'query': *}, 'head_1': {'alpha': *, 'beta': *, 'key': *, 'query': *}, 'head_2': {'alpha': *, 'beta': *, 'key': *, 'query': *}, 'head_3': {'alpha': *, 'beta': *, 'key': *, 'query': *}}, 'mlp': {'bias1': *, 'bias2': *, 'dense1': *, 'dense2': *}}, {'head': {'head_0': {'alpha': *, 'beta': *, 'key': *, 'query': *}, 'head_1': {'alpha': *, 'beta': *, 'key': *, 'query': *}, 'head_2': {'alpha': *, 'beta': *, 'key': *, 'query': *}, 'head_3': {'alpha': *, 'beta': *, 'key': *, 'query': *}}, 'mlp': {'bias1': *, 'bias2': *, 'dense1': *, 'dense2': *}}, {'head': {'head_0': {'alpha': *, 'beta': *, 'key': *, 'query': *}, 'head_1': {'alpha': *, 'beta': *, 'key': *, 'query': *}, 'head_2': {'alpha': *, 'beta': *, 'key': *, 'query': *}, 'head_3': {'alpha': *, 'beta': *, 'key': *, 'query': *}}, 'mlp': {'bias1': *, 'bias2': *, 'dense1': *, 'dense2': *}}, {'head': {'head_0': {'alpha': *, 'beta': *, 'key': *, 'query': *}, 'head_1': {'alpha': *, 'beta': *, 'key': *, 'query': *}, 'head_2': {'alpha': *, 'beta': *, 'key': *, 'query': *}, 'head_3': {'alpha': *, 'beta': *, 'key': *, 'query': *}}, 'mlp': {'bias1': *, 'bias2': *, 'dense1': *, 'dense2': *}}, {'head': {'head_0': {'alpha': *, 'beta': *, 'key': *, 'query': *}, 'head_1': {'alpha': *, 'beta': *, 'key': *, 'query': *}, 'head_2': {'alpha': *, 'beta': *, 'key': *, 'query': *}, 'head_3': {'alpha': *, 'beta': *, 'key': *, 'query': *}}, 'mlp': {'bias1': *, 'bias2': *, 'dense1': *, 'dense2': *}}, {'head': {'head_0': {'alpha': *, 'beta': *, 'key': *, 'query': *}, 'head_1': {'alpha': *, 'beta': *, 'key': *, 'query': *}, 'head_2': {'alpha': *, 'beta': *, 'key': *, 'query': *}, 'head_3': {'alpha': *, 'beta': *, 'key': *, 'query': *}}, 'mlp': {'bias1': *, 'bias2': *, 'dense1': *, 'dense2': *}}], 'lm_head': *, 'pos_embedding': *, 'tok_embedding': *})\n"
     ]
    }
   ],
   "source": [
    "print(structure)"
   ]
  },
  {
   "cell_type": "code",
   "execution_count": null,
   "metadata": {},
   "outputs": [],
   "source": []
  }
 ],
 "metadata": {
  "kernelspec": {
   "display_name": "Python 3",
   "language": "python",
   "name": "python3"
  },
  "language_info": {
   "codemirror_mode": {
    "name": "ipython",
    "version": 3
   },
   "file_extension": ".py",
   "mimetype": "text/x-python",
   "name": "python",
   "nbconvert_exporter": "python",
   "pygments_lexer": "ipython3",
   "version": "3.11.7"
  }
 },
 "nbformat": 4,
 "nbformat_minor": 2
}
