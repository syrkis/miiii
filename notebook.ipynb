{
 "cells": [
  {
   "cell_type": "code",
   "execution_count": 39,
   "metadata": {},
   "outputs": [],
   "source": [
    "import jax\n",
    "import jax.numpy as jnp\n",
    "import optax\n",
    "from jax import grad, jit, vmap, random\n",
    "from einops import rearrange\n",
    "\n",
    "import os\n",
    "from functional import partial\n",
    "import requests\n",
    "import numpy as np\n",
    "import pandas as pd\n",
    "from tqdm import tqdm\n",
    "from src.data import data_fn, batch_fn\n",
    "import yaml"
   ]
  },
  {
   "cell_type": "code",
   "execution_count": 40,
   "metadata": {},
   "outputs": [],
   "source": [
    "epochs = 100\n",
    "d      = 5"
   ]
  },
  {
   "cell_type": "code",
   "execution_count": 41,
   "metadata": {},
   "outputs": [],
   "source": [
    "with open('config.yaml', 'r') as f:\n",
    "    config = yaml.load(f, Loader=yaml.FullLoader)"
   ]
  },
  {
   "cell_type": "code",
   "execution_count": 42,
   "metadata": {},
   "outputs": [],
   "source": [
    "rng, key = random.split(random.PRNGKey(0))\n",
    "data     = jit(partial(data_fn, d))()\n",
    "batches  = iter(batch_fn(key, data))"
   ]
  },
  {
   "cell_type": "code",
   "execution_count": 43,
   "metadata": {},
   "outputs": [],
   "source": [
    "@jit\n",
    "def apply_fn(params, xb):\n",
    "    B, T = xb.shape\n",
    "    tok_embs = params['tok_embedding'][xb]              # B x T x C\n",
    "    pos_embs = params['pos_embedding'][jnp.arange(T)]   # T x C\n",
    "    x = tok_embs + pos_embs\n",
    "    for block in params['blocks']:\n",
    "        x = block_fn(block, x)\n",
    "    x = layer_norm_fn(params['layer_norm'], x)\n",
    "    logits = x @ params['lm_head']                       # B x T x V\n",
    "    return logits\n",
    "\n",
    "def block_fn(params, x):\n",
    "    x = layer_norm_fn(params['ln1'], x)\n",
    "    x += head_fn(params, x)\n",
    "    x = layer_norm_fn(params['ln2'], x)\n",
    "    x += ffwd_fn(params['ffwd'], x)\n",
    "    return x\n",
    "\n",
    "def layer_norm_fn(params, x, eps=1e-6):\n",
    "    gamma, beta = params['gamma'], params['beta']\n",
    "    mean = jnp.mean(x, axis=-1, keepdims=True)\n",
    "    std = jnp.std(x, axis=-1, keepdims=True)\n",
    "    out = (x - mean) / (std + eps)\n",
    "    out = out * gamma + beta\n",
    "    return out\n",
    "\n",
    "# functions\n",
    "def head_fn(params, x):\n",
    "    x = [head_apply_fn(params['head'][f'head_{i}'], x) for i in range(len(params['head']))]\n",
    "    x = jnp.concatenate(x, axis=-1)\n",
    "    x = jnp.dot(x, params['proj'])\n",
    "    return x\n",
    "\n",
    "def head_apply_fn(params, x):\n",
    "    B, T, C = x.shape\n",
    "    tril = jnp.nan_to_num(jnp.absolute(jnp.tril(jnp.ones((T, T))) - 1) * (-jnp.inf), nan=0)\n",
    "    # mask = jnp.nan_to_num(jnp.triu(jnp.ones((T, T))) * (-jnp.inf), nan=0)\n",
    "    H = params['key'].shape[1]\n",
    "    k = jnp.dot(x, params['key'])       # B x T x H\n",
    "    q = jnp.dot(x, params['query'])     # B x T x H\n",
    "    wei = q @ k.transpose(0, 2, 1)      # B x T x T\n",
    "    wei /= jnp.sqrt(H)                  # normalise\n",
    "    wei += tril                         # mask future\n",
    "    wei = jax.nn.softmax(wei, axis=-1)  # B x T x T\n",
    "    v = jnp.dot(x, params['value'])     # B x T x H\n",
    "    out = wei @ v                       # B x T x H\n",
    "    return out\n",
    "\n",
    "def ffwd_fn(params, x):\n",
    "    out = jax.nn.relu(x @ params['dense1'] + params['bias1'])\n",
    "    out = out @ params['dense2'] + params['bias2']\n",
    "    return out"
   ]
  },
  {
   "cell_type": "code",
   "execution_count": 44,
   "metadata": {},
   "outputs": [],
   "source": [
    "def init_head_fn(rng, embed_dim, n_heads, scale):\n",
    "    head_size = embed_dim // n_heads\n",
    "    rng, key_key, key_value, key_query = jax.random.split(rng, 4)\n",
    "    params = {} \n",
    "    for i in range(n_heads):\n",
    "        params[f'head_{i}'] = {\n",
    "            'key':   jax.random.normal(key_key,   shape=(embed_dim, head_size)) * scale,\n",
    "            'value': jax.random.normal(key_value, shape=(embed_dim, head_size)) * scale,\n",
    "            'query': jax.random.normal(key_query, shape=(embed_dim, head_size)) * scale,\n",
    "            }\n",
    "    return params\n",
    "\n",
    "def init_ffwd_fn(rng, embed_dim, scale=1e-2):\n",
    "    rng, key1, key2 = jax.random.split(rng, 3)\n",
    "    params = {\n",
    "        'dense1': jax.random.normal(key1, shape=(embed_dim, 4 * embed_dim)) * scale,\n",
    "        'bias1': jax.random.normal(key1, shape=(4 * embed_dim,)) * scale,\n",
    "        'dense2': jax.random.normal(key2, shape=(4 * embed_dim, embed_dim)) * scale,\n",
    "        'bias2': jax.random.normal(key2, shape=(embed_dim,)) * scale,\n",
    "        }\n",
    "    return params\n",
    "\n",
    "def init_layer_norm_fn(embed_dim):\n",
    "    params = {\n",
    "        'gamma': jnp.ones((embed_dim,)),\n",
    "        'beta': jnp.zeros((embed_dim,)),\n",
    "        }\n",
    "    return params\n",
    "\n",
    "def init_block_fn(rng, embed_dim, n_heads, scale):\n",
    "    rng, key1, key2, key3 = jax.random.split(rng, 4)\n",
    "    params = {\n",
    "        'head': init_head_fn(key1, embed_dim, n_heads, scale),\n",
    "        'ffwd': init_ffwd_fn(key2, embed_dim, scale),\n",
    "        'proj': jax.random.normal(key3, shape=(embed_dim, embed_dim)) * scale,\n",
    "        'ln1': init_layer_norm_fn(embed_dim),\n",
    "        'ln2': init_layer_norm_fn(embed_dim),\n",
    "        }\n",
    "    return params\n",
    "\n",
    "def init_fn(rng, config):\n",
    "    rng, key1, key2, key3 = jax.random.split(rng, 4)\n",
    "    params = {\n",
    "        'tok_embedding': jax.random.normal(key1, shape=(config['vocab_size'], config['embed_dim'])) * config['scale'],\n",
    "        'pos_embedding': jax.random.normal(key2, shape=(config['block_size'], config['embed_dim'])) * config['scale'],\n",
    "        'lm_head': jax.random.normal(key3, shape=(config['embed_dim'], config['vocab_size'])) * config['scale'],\n",
    "        'blocks': [init_block_fn(key1, config['embed_dim'], config['n_heads'], scale=config['scale']) for _ in range(config['n_layers'])],\n",
    "        'layer_norm': init_layer_norm_fn(config['embed_dim']),\n",
    "        }\n",
    "    return params"
   ]
  },
  {
   "cell_type": "code",
   "execution_count": 45,
   "metadata": {},
   "outputs": [],
   "source": [
    "def loss_fn(params, xb, yb):\n",
    "    # we cant to minimise cross entropy\n",
    "    logits = apply_fn(params, xb) # B x T x C\n",
    "    B, T, C = logits.shape\n",
    "    yb = yb.reshape(-1)\n",
    "    logits = logits.reshape(B * T, C)\n",
    "    logits = jnp.clip(logits, -100, 100)\n",
    "    loss = jnp.mean(optax.softmax_cross_entropy(logits, jax.nn.one_hot(yb, C)))\n",
    "    return loss"
   ]
  },
  {
   "cell_type": "code",
   "execution_count": 46,
   "metadata": {},
   "outputs": [],
   "source": [
    "def generate_fn(rng, params, idx, block_size, length=100, temperature=1.0):\n",
    "    for _ in tqdm(range(length)):\n",
    "        rng, key = jax.random.split(rng)\n",
    "        logits = apply_fn(params, idx[:, -block_size:])         # B x T x C\n",
    "        logits = logits[:, -1, :] / temperature                 # B x C\n",
    "        idx_new = jax.random.categorical(key, logits)[:, None]  # B x 1\n",
    "        idx = jnp.concatenate([idx, idx_new], axis=1)           # B x T + 1\n",
    "    return idx"
   ]
  },
  {
   "cell_type": "code",
   "execution_count": 50,
   "metadata": {},
   "outputs": [],
   "source": [
    "params = init_fn(rng, config)\n",
    "# params"
   ]
  },
  {
   "cell_type": "code",
   "execution_count": null,
   "metadata": {},
   "outputs": [],
   "source": []
  }
 ],
 "metadata": {
  "kernelspec": {
   "display_name": "Python 3",
   "language": "python",
   "name": "python3"
  },
  "language_info": {
   "codemirror_mode": {
    "name": "ipython",
    "version": 3
   },
   "file_extension": ".py",
   "mimetype": "text/x-python",
   "name": "python",
   "nbconvert_exporter": "python",
   "pygments_lexer": "ipython3",
   "version": "3.11.7"
  }
 },
 "nbformat": 4,
 "nbformat_minor": 2
}
