{
 "cells": [
  {
   "cell_type": "markdown",
   "metadata": {},
   "source": [
    "# MIIII"
   ]
  },
  {
   "cell_type": "code",
   "execution_count": 1,
   "metadata": {},
   "outputs": [],
   "source": [
    "import jax.numpy as jnp\n",
    "from jax import random\n",
    "import jax\n",
    "from oeis import oeis\n",
    "import optax\n",
    "from functools import partial\n",
    "from sklearn.metrics import confusion_matrix, f1_score\n",
    "from matplotlib import pyplot as plt\n",
    "import src"
   ]
  },
  {
   "cell_type": "code",
   "execution_count": 6,
   "metadata": {},
   "outputs": [],
   "source": [
    "def predict(apply_fn, params, rng, x):\n",
    "    return (jax.nn.sigmoid(apply_fn(params, rng, x, 0)) > 0.5).astype(jnp.int32)"
   ]
  },
  {
   "cell_type": "code",
   "execution_count": 3,
   "metadata": {},
   "outputs": [],
   "source": [
    "# config and init\n",
    "conf, (rng, key) = src.get_conf(), random.split(random.PRNGKey(0))\n",
    "data = src.prime_fn(conf.n, partial(src.base_n, conf.base))\n",
    "params = src.init_fn(key, conf)"
   ]
  },
  {
   "cell_type": "code",
   "execution_count": 4,
   "metadata": {},
   "outputs": [],
   "source": [
    "# train\n",
    "apply_fn = src.make_apply_fn(src.vaswani_fn)\n",
    "train_fn, opt_state = src.init_train(apply_fn, params, conf, *data)\n",
    "(params, opt_state, rng), losses = train_fn(params, opt_state, rng, conf.epochs)"
   ]
  },
  {
   "cell_type": "code",
   "execution_count": 7,
   "metadata": {},
   "outputs": [
    {
     "ename": "ValueError",
     "evalue": "vmap in_axes specification must be a tree prefix of the corresponding value, got specification (None, None, 0, None) for value tree PyTreeDef(({'blocks': [{'ffwd': (*, *, *, *), 'head': (*, *, *, *)}, {'ffwd': (*, *, *, *), 'head': (*, *, *, *)}], 'lm_head': *, 'pos_emb': *, 'tok_emb': *}, *, *)).",
     "output_type": "error",
     "traceback": [
      "\u001b[0;31m---------------------------------------------------------------------------\u001b[0m",
      "\u001b[0;31mValueError\u001b[0m                                Traceback (most recent call last)",
      "Cell \u001b[0;32mIn[7], line 11\u001b[0m\n\u001b[1;32m      7\u001b[0m     src\u001b[38;5;241m.\u001b[39mpolar_plot(valid_y, valid_pred, conf, \u001b[38;5;124m\"\u001b[39m\u001b[38;5;124mvalid\u001b[39m\u001b[38;5;124m\"\u001b[39m, offset\u001b[38;5;241m=\u001b[39mtrain_y\u001b[38;5;241m.\u001b[39mshape[\u001b[38;5;241m0\u001b[39m])\n\u001b[1;32m      8\u001b[0m     src\u001b[38;5;241m.\u001b[39mcurve_plot(jnp\u001b[38;5;241m.\u001b[39mlog(losses), conf, params)\n\u001b[0;32m---> 11\u001b[0m \u001b[43mmake_plots\u001b[49m\u001b[43m(\u001b[49m\u001b[43mlosses\u001b[49m\u001b[43m,\u001b[49m\u001b[43m \u001b[49m\u001b[43mconf\u001b[49m\u001b[43m,\u001b[49m\u001b[43m \u001b[49m\u001b[43mparams\u001b[49m\u001b[43m)\u001b[49m\n",
      "Cell \u001b[0;32mIn[7], line 4\u001b[0m, in \u001b[0;36mmake_plots\u001b[0;34m(losses, conf, params)\u001b[0m\n\u001b[1;32m      2\u001b[0m \u001b[38;5;28;01mdef\u001b[39;00m \u001b[38;5;21mmake_plots\u001b[39m(losses, conf, params):\n\u001b[1;32m      3\u001b[0m     (train_x, train_y), (valid_x, valid_y) \u001b[38;5;241m=\u001b[39m data\n\u001b[0;32m----> 4\u001b[0m     train_pred \u001b[38;5;241m=\u001b[39m \u001b[43mpredict\u001b[49m\u001b[43m(\u001b[49m\u001b[43mapply_fn\u001b[49m\u001b[43m,\u001b[49m\u001b[43m \u001b[49m\u001b[43mparams\u001b[49m\u001b[43m,\u001b[49m\u001b[43m \u001b[49m\u001b[43mrng\u001b[49m\u001b[43m,\u001b[49m\u001b[43m \u001b[49m\u001b[43mtrain_x\u001b[49m\u001b[43m)\u001b[49m\n\u001b[1;32m      5\u001b[0m     valid_pred \u001b[38;5;241m=\u001b[39m predict(apply_fn, params, rng, valid_x)\n\u001b[1;32m      6\u001b[0m     src\u001b[38;5;241m.\u001b[39mpolar_plot(train_y, train_pred, conf, \u001b[38;5;124m\"\u001b[39m\u001b[38;5;124mtrain\u001b[39m\u001b[38;5;124m\"\u001b[39m)\n",
      "Cell \u001b[0;32mIn[6], line 2\u001b[0m, in \u001b[0;36mpredict\u001b[0;34m(apply_fn, params, rng, x)\u001b[0m\n\u001b[1;32m      1\u001b[0m \u001b[38;5;28;01mdef\u001b[39;00m \u001b[38;5;21mpredict\u001b[39m(apply_fn, params, rng, x):\n\u001b[0;32m----> 2\u001b[0m     \u001b[38;5;28;01mreturn\u001b[39;00m (jax\u001b[38;5;241m.\u001b[39mnn\u001b[38;5;241m.\u001b[39msigmoid(\u001b[43mapply_fn\u001b[49m\u001b[43m(\u001b[49m\u001b[43mparams\u001b[49m\u001b[43m,\u001b[49m\u001b[43m \u001b[49m\u001b[43mrng\u001b[49m\u001b[43m,\u001b[49m\u001b[43m \u001b[49m\u001b[43mx\u001b[49m\u001b[43m)\u001b[49m) \u001b[38;5;241m>\u001b[39m \u001b[38;5;241m0.5\u001b[39m)\u001b[38;5;241m.\u001b[39mastype(jnp\u001b[38;5;241m.\u001b[39mint32)\n",
      "    \u001b[0;31m[... skipping hidden 2 frame]\u001b[0m\n",
      "File \u001b[0;32m~/.pyenv/versions/3.11.7/lib/python3.11/site-packages/jax/_src/api_util.py:433\u001b[0m, in \u001b[0;36mflatten_axes\u001b[0;34m(name, treedef, axis_tree, kws, tupled_args)\u001b[0m\n\u001b[1;32m    429\u001b[0m       \u001b[38;5;28;01melse\u001b[39;00m:\n\u001b[1;32m    430\u001b[0m         hint \u001b[38;5;241m+\u001b[39m\u001b[38;5;241m=\u001b[39m (\u001b[38;5;124mf\u001b[39m\u001b[38;5;124m\"\u001b[39m\u001b[38;5;124m In particular, you\u001b[39m\u001b[38;5;124m'\u001b[39m\u001b[38;5;124mre passing in a single argument which \u001b[39m\u001b[38;5;124m\"\u001b[39m\n\u001b[1;32m    431\u001b[0m                  \u001b[38;5;124mf\u001b[39m\u001b[38;5;124m\"\u001b[39m\u001b[38;5;124mmeans that \u001b[39m\u001b[38;5;132;01m{\u001b[39;00mname\u001b[38;5;132;01m}\u001b[39;00m\u001b[38;5;124m might need to be wrapped in \u001b[39m\u001b[38;5;124m\"\u001b[39m\n\u001b[1;32m    432\u001b[0m                  \u001b[38;5;124mf\u001b[39m\u001b[38;5;124m\"\u001b[39m\u001b[38;5;124ma singleton tuple.\u001b[39m\u001b[38;5;124m\"\u001b[39m)\n\u001b[0;32m--> 433\u001b[0m   \u001b[38;5;28;01mraise\u001b[39;00m \u001b[38;5;167;01mValueError\u001b[39;00m(\u001b[38;5;124mf\u001b[39m\u001b[38;5;124m\"\u001b[39m\u001b[38;5;132;01m{\u001b[39;00mname\u001b[38;5;132;01m}\u001b[39;00m\u001b[38;5;124m specification must be a tree prefix of the \u001b[39m\u001b[38;5;124m\"\u001b[39m\n\u001b[1;32m    434\u001b[0m                    \u001b[38;5;124mf\u001b[39m\u001b[38;5;124m\"\u001b[39m\u001b[38;5;124mcorresponding value, got specification \u001b[39m\u001b[38;5;132;01m{\u001b[39;00maxis_tree\u001b[38;5;132;01m}\u001b[39;00m\u001b[38;5;124m \u001b[39m\u001b[38;5;124m\"\u001b[39m\n\u001b[1;32m    435\u001b[0m                    \u001b[38;5;124mf\u001b[39m\u001b[38;5;124m\"\u001b[39m\u001b[38;5;124mfor value tree \u001b[39m\u001b[38;5;132;01m{\u001b[39;00mtreedef\u001b[38;5;132;01m}\u001b[39;00m\u001b[38;5;124m.\u001b[39m\u001b[38;5;132;01m{\u001b[39;00mhint\u001b[38;5;132;01m}\u001b[39;00m\u001b[38;5;124m\"\u001b[39m) \u001b[38;5;28;01mfrom\u001b[39;00m \u001b[38;5;28;01mNone\u001b[39;00m\n\u001b[1;32m    436\u001b[0m axes \u001b[38;5;241m=\u001b[39m [\u001b[38;5;28;01mNone\u001b[39;00m \u001b[38;5;28;01mif\u001b[39;00m a \u001b[38;5;129;01mis\u001b[39;00m proxy \u001b[38;5;28;01melse\u001b[39;00m a \u001b[38;5;28;01mfor\u001b[39;00m a \u001b[38;5;129;01min\u001b[39;00m axes]\n\u001b[1;32m    437\u001b[0m \u001b[38;5;28;01massert\u001b[39;00m \u001b[38;5;28mlen\u001b[39m(axes) \u001b[38;5;241m==\u001b[39m treedef\u001b[38;5;241m.\u001b[39mnum_leaves\n",
      "\u001b[0;31mValueError\u001b[0m: vmap in_axes specification must be a tree prefix of the corresponding value, got specification (None, None, 0, None) for value tree PyTreeDef(({'blocks': [{'ffwd': (*, *, *, *), 'head': (*, *, *, *)}, {'ffwd': (*, *, *, *), 'head': (*, *, *, *)}], 'lm_head': *, 'pos_emb': *, 'tok_emb': *}, *, *))."
     ]
    }
   ],
   "source": [
    "# evaluate\n",
    "def make_plots(losses, conf, params):\n",
    "    (train_x, train_y), (valid_x, valid_y) = data\n",
    "    train_pred = predict(apply_fn, params, rng, train_x)\n",
    "    valid_pred = predict(apply_fn, params, rng, valid_x)\n",
    "    src.polar_plot(train_y, train_pred, conf, \"train\")\n",
    "    src.polar_plot(valid_y, valid_pred, conf, \"valid\", offset=train_y.shape[0])\n",
    "    src.curve_plot(jnp.log(losses), conf, params)\n",
    "\n",
    "\n",
    "make_plots(losses, conf, params)"
   ]
  },
  {
   "cell_type": "code",
   "execution_count": null,
   "metadata": {},
   "outputs": [],
   "source": []
  },
  {
   "cell_type": "code",
   "execution_count": null,
   "metadata": {},
   "outputs": [],
   "source": []
  }
 ],
 "metadata": {
  "kernelspec": {
   "display_name": "Python 3",
   "language": "python",
   "name": "python3"
  },
  "language_info": {
   "codemirror_mode": {
    "name": "ipython",
    "version": 3
   },
   "file_extension": ".py",
   "mimetype": "text/x-python",
   "name": "python",
   "nbconvert_exporter": "python",
   "pygments_lexer": "ipython3",
   "version": "3.11.7"
  }
 },
 "nbformat": 4,
 "nbformat_minor": 2
}
