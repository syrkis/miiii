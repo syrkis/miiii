{
 "cells": [
  {
   "cell_type": "markdown",
   "metadata": {},
   "source": [
    "# MIIII"
   ]
  },
  {
   "cell_type": "code",
   "execution_count": null,
   "metadata": {},
   "outputs": [],
   "source": [
    "import jax, optax, yaml\n",
    "import jax.numpy as jnp\n",
    "from jax import jit, random, tree_util, vmap, grad, value_and_grad\n",
    "from jax.lib import xla_client\n",
    "from functional import partial\n",
    "from tqdm import tqdm\n",
    "import tikz\n",
    "from typing import Any, Tuple, List, Dict, Iterator\n",
    "from oeis import A000032\n",
    "\n",
    "\n",
    "from src import args_fn, apply_fn, init_fn\n",
    "import esch"
   ]
  },
  {
   "cell_type": "code",
   "execution_count": null,
   "metadata": {},
   "outputs": [],
   "source": [
    "import oeis as OEIS"
   ]
  },
  {
   "cell_type": "code",
   "execution_count": null,
   "metadata": {},
   "outputs": [],
   "source": []
  },
  {
   "cell_type": "code",
   "execution_count": null,
   "metadata": {},
   "outputs": [],
   "source": [
    "def cross_entropy_fn(params, x, y):  # todo: weight by prime frquency\n",
    "    y_pred = apply_fn(params, x)\n",
    "    loss = -jnp.mean(y * jnp.log(y_pred + 1e-8))\n",
    "    return loss"
   ]
  },
  {
   "cell_type": "code",
   "execution_count": null,
   "metadata": {},
   "outputs": [],
   "source": [
    "@jit\n",
    "def update_fn(params, state, x, y):\n",
    "    loss, grads = jax.value_and_grad(loss_fn)(params, x, y)\n",
    "    updates, state = opt.update(grads, state, params)\n",
    "    params = optax.apply_updates(params, updates)\n",
    "    return params, state, loss"
   ]
  },
  {
   "cell_type": "code",
   "execution_count": null,
   "metadata": {},
   "outputs": [],
   "source": [
    "pbar = tqdm(range(conf[\"epochs\"]))\n",
    "losses = jnp.zeros(conf[\"epochs\"])\n",
    "for epoch in pbar:\n",
    "    params, state, loss = update_fn(params, state, x, y)\n",
    "    losses = losses.at[epoch].add(loss)"
   ]
  },
  {
   "cell_type": "code",
   "execution_count": null,
   "metadata": {},
   "outputs": [],
   "source": [
    "info = dict(title=\"Training curves\", xlab=\"Epoch\", ylab=\"MSE\")\n",
    "fig = esch.curves_fn([losses, losses - 0.01, losses + 0.01, losses + 0.02], info)\n",
    "fig.show()"
   ]
  },
  {
   "cell_type": "code",
   "execution_count": null,
   "metadata": {},
   "outputs": [],
   "source": [
    "y.shape"
   ]
  },
  {
   "cell_type": "code",
   "execution_count": null,
   "metadata": {},
   "outputs": [],
   "source": [
    "def spiral_fn(v):\n",
    "    # floor sqrt of length of v\n",
    "    n = jnp.sqrt(v.shape[0]).astype(jnp.int32)\n",
    "    v, lst = v[: n * n].reshape(n, n), [v[:n]]\n",
    "    print(lst)\n",
    "    while v.size:\n",
    "        v = jnp.rot90(v[1:], 1)\n",
    "        lst.append(v[0])\n",
    "    return jnp.concatenate(lst).reshape((n, n))"
   ]
  },
  {
   "cell_type": "code",
   "execution_count": null,
   "metadata": {},
   "outputs": [],
   "source": [
    "spiral_fn(jnp.arange(100))"
   ]
  },
  {
   "cell_type": "code",
   "execution_count": null,
   "metadata": {},
   "outputs": [],
   "source": []
  }
 ],
 "metadata": {
  "kernelspec": {
   "display_name": "Python 3",
   "language": "python",
   "name": "python3"
  },
  "language_info": {
   "codemirror_mode": {
    "name": "ipython",
    "version": 3
   },
   "file_extension": ".py",
   "mimetype": "text/x-python",
   "name": "python",
   "nbconvert_exporter": "python",
   "pygments_lexer": "ipython3",
   "version": "3.11.7"
  }
 },
 "nbformat": 4,
 "nbformat_minor": 2
}
