{
 "cells": [
  {
   "cell_type": "code",
   "execution_count": 1,
   "metadata": {},
   "outputs": [],
   "source": [
    "import jax, optax, yaml\n",
    "import jax.numpy as jnp\n",
    "from jax import jit, random, tree_util\n",
    "from jax.lib import xla_client\n",
    "from functional import partial\n",
    "from tqdm import tqdm\n",
    "import numpy as np\n",
    "\n",
    "\n",
    "from src.data import data_fn\n",
    "from src.model import init_fn, apply_fn\n",
    "import esch"
   ]
  },
  {
   "cell_type": "code",
   "execution_count": 2,
   "metadata": {},
   "outputs": [],
   "source": [
    "with open('config.yaml', 'r') as f:\n",
    "    conf = yaml.load(f, Loader=yaml.FullLoader)"
   ]
  },
  {
   "cell_type": "code",
   "execution_count": 3,
   "metadata": {},
   "outputs": [],
   "source": [
    "rng, key = random.split(random.PRNGKey(0))\n",
    "opt      = optax.lion(conf['lr'], weight_decay=conf['weight_decay'])\n",
    "params   = init_fn(key, conf)\n",
    "state    = opt.init(params)\n",
    "x, y     = data_fn(conf)"
   ]
  },
  {
   "cell_type": "code",
   "execution_count": 4,
   "metadata": {},
   "outputs": [],
   "source": [
    "def loss_fn(params, x, y):  # todo: weight by prime frquency\n",
    "    y_pred = apply_fn(params, x)\n",
    "    loss   = jnp.square(y_pred - y).mean()\n",
    "    return loss"
   ]
  },
  {
   "cell_type": "code",
   "execution_count": 5,
   "metadata": {},
   "outputs": [],
   "source": [
    "@jit\n",
    "def update_fn(params, state, x, y):\n",
    "    loss, grads    = jax.value_and_grad(loss_fn)(params, x, y)\n",
    "    updates, state = opt.update(grads, state, params)\n",
    "    params         = optax.apply_updates(params, updates)\n",
    "    return params, state, loss"
   ]
  },
  {
   "cell_type": "code",
   "execution_count": 6,
   "metadata": {},
   "outputs": [
    {
     "name": "stderr",
     "output_type": "stream",
     "text": [
      "100%|██████████| 20/20 [00:00<00:00, 23.41it/s]\n"
     ]
    }
   ],
   "source": [
    "pbar   = tqdm(range(conf['epochs']))\n",
    "losses = jnp.zeros(conf['epochs'])\n",
    "for epoch in pbar:\n",
    "    params, state, loss = update_fn(params, state, x, y)\n",
    "    losses              = losses.at[epoch].add(loss)"
   ]
  },
  {
   "cell_type": "code",
   "execution_count": 7,
   "metadata": {},
   "outputs": [
    {
     "data": {
      "application/vnd.plotly.v1+json": {
       "config": {
        "plotlyServerURL": "https://plot.ly"
       },
       "data": [
        {
         "line": {
          "color": "white",
          "dash": "solid",
          "width": 2
         },
         "mode": "lines",
         "type": "scatter",
         "x": [
          0,
          1,
          2,
          3,
          4,
          5,
          6,
          7,
          8,
          9,
          10,
          11,
          12,
          13,
          14,
          15,
          16,
          17,
          18,
          19
         ],
         "y": [
          0.18298271298408508,
          0.18207359313964844,
          0.18109801411628723,
          0.1799837052822113,
          0.17868417501449585,
          0.17716741561889648,
          0.17538700997829437,
          0.17333956062793732,
          0.17101775109767914,
          0.16842857003211975,
          0.1655920147895813,
          0.16255801916122437,
          0.1594114750623703,
          0.1562885046005249,
          0.15339654684066772,
          0.15104256570339203,
          0.14966611564159393,
          0.1498854011297226,
          0.1522037535905838,
          0.1502968668937683
         ]
        },
        {
         "line": {
          "color": "white",
          "dash": "dash",
          "width": 2
         },
         "mode": "lines",
         "type": "scatter",
         "x": [
          0,
          1,
          2,
          3,
          4,
          5,
          6,
          7,
          8,
          9,
          10,
          11,
          12,
          13,
          14,
          15,
          16,
          17,
          18,
          19
         ],
         "y": [
          0.17298270761966705,
          0.1720735877752304,
          0.1710980087518692,
          0.16998369991779327,
          0.16868416965007782,
          0.16716741025447845,
          0.16538700461387634,
          0.1633395552635193,
          0.1610177457332611,
          0.15842856466770172,
          0.15559200942516327,
          0.15255801379680634,
          0.14941146969795227,
          0.14628849923610687,
          0.1433965414762497,
          0.141042560338974,
          0.1396661102771759,
          0.13988539576530457,
          0.14220374822616577,
          0.14029686152935028
         ]
        },
        {
         "line": {
          "color": "white",
          "dash": "dot",
          "width": 2
         },
         "mode": "lines",
         "type": "scatter",
         "x": [
          0,
          1,
          2,
          3,
          4,
          5,
          6,
          7,
          8,
          9,
          10,
          11,
          12,
          13,
          14,
          15,
          16,
          17,
          18,
          19
         ],
         "y": [
          0.1929827183485031,
          0.19207359850406647,
          0.19109801948070526,
          0.18998371064662933,
          0.18868418037891388,
          0.18716742098331451,
          0.1853870153427124,
          0.18333956599235535,
          0.18101775646209717,
          0.17842857539653778,
          0.17559202015399933,
          0.1725580245256424,
          0.16941148042678833,
          0.16628850996494293,
          0.16339655220508575,
          0.16104257106781006,
          0.15966612100601196,
          0.15988540649414062,
          0.16220375895500183,
          0.16029687225818634
         ]
        },
        {
         "line": {
          "color": "white",
          "dash": "dashdot",
          "width": 2
         },
         "mode": "lines",
         "type": "scatter",
         "x": [
          0,
          1,
          2,
          3,
          4,
          5,
          6,
          7,
          8,
          9,
          10,
          11,
          12,
          13,
          14,
          15,
          16,
          17,
          18,
          19
         ],
         "y": [
          0.20298270881175995,
          0.2020735889673233,
          0.2010980099439621,
          0.19998370110988617,
          0.19868417084217072,
          0.19716741144657135,
          0.19538700580596924,
          0.19333955645561218,
          0.191017746925354,
          0.18842856585979462,
          0.18559201061725616,
          0.18255801498889923,
          0.17941147089004517,
          0.17628850042819977,
          0.1733965426683426,
          0.1710425615310669,
          0.1696661114692688,
          0.16988539695739746,
          0.17220374941825867,
          0.17029686272144318
         ]
        }
       ],
       "layout": {
        "template": {
         "layout": {
          "font": {
           "color": "white",
           "family": "Times New Roman, serif",
           "size": 18
          },
          "paper_bgcolor": "black",
          "plot_bgcolor": "black",
          "title": {
           "font": {
            "color": "white",
            "size": 22
           },
           "x": 0.5,
           "xanchor": "center"
          },
          "xaxis": {
           "linecolor": "white",
           "linewidth": 1,
           "mirror": true,
           "showgrid": false,
           "showline": true,
           "tickcolor": "white",
           "tickfont": {
            "color": "white",
            "size": 14
           },
           "ticks": "outside",
           "title": {
            "font": {
             "color": "white",
             "size": 18
            },
            "standoff": 15
           }
          },
          "yaxis": {
           "linecolor": "white",
           "linewidth": 1,
           "mirror": true,
           "showgrid": false,
           "showline": true,
           "tickcolor": "white",
           "tickfont": {
            "color": "white",
            "size": 14
           },
           "ticks": "outside",
           "title": {
            "font": {
             "color": "white",
             "size": 18
            },
            "standoff": 15
           }
          }
         }
        },
        "title": {
         "text": "Training curves"
        },
        "xaxis": {
         "title": {
          "text": "Epoch"
         }
        },
        "yaxis": {
         "title": {
          "text": "MSE"
         }
        }
       }
      }
     },
     "metadata": {},
     "output_type": "display_data"
    }
   ],
   "source": [
    "info = dict(title='Training curves', xlab='Epoch', ylab='MSE')\n",
    "fig  = esch.curves_fn([losses, losses - 0.01, losses + 0.01, losses+ 0.02], info)\n",
    "fig.show()"
   ]
  },
  {
   "cell_type": "code",
   "execution_count": 8,
   "metadata": {},
   "outputs": [
    {
     "name": "stdout",
     "output_type": "stream",
     "text": [
      "Parameter 20</b><br/>sharding={replicated}<br/>s32[541]\n",
      "Parameter 16</b><br/>sharding={replicated}<br/>f32[64,1]{1,0}\n",
      "Parameter 13</b><br/>sharding={replicated}<br/>f32[64]\n",
      "Parameter 12</b><br/>sharding={replicated}<br/>f32[64]\n",
      "Parameter 5</b><br/>sharding={replicated}<br/>f32[64]\n",
      "Parameter 4</b><br/>sharding={replicated}<br/>f32[64]\n",
      "Parameter 18</b><br/>sharding={replicated}<br/>f32[16,64]{1,0}\n",
      "Parameter 19</b><br/>sharding={replicated}<br/>s32[541,3]{1,0}\n",
      "Parameter 0</b><br/>f32[16,64]{1,0}\n",
      "Parameter 1</b><br/>s32[541,3]{1,0}\n",
      "compare.0</b><br/>direction=LT<br/>pred[541,3]{1,0}<br/>\n",
      "add.43</b><br/>s32[541,3]{1,0}<br/>\n",
      "select.0</b><br/>s32[541,3]{1,0}\n",
      "bitcast.35</b><br/>s32[541,3,1]{2,1,0}\n",
      "gather.1</b><br/>offset_dims={2}, collapsed_slice_dims={0}, start_index_map={0}, index_vector_dim=2<br/>slice_sizes={1,64}<br/>f32[541,3,64]{2,1,0}\n",
      "Parameter 17</b><br/>sharding={replicated}<br/>f32[128,64]{1,0}\n",
      "Parameter 0</b><br/>f32[128,64]{1,0}\n",
      "iota.1</b><br/>iota_dimension=0<br/>s32[3,1]{1,0}\n",
      "gather.0</b><br/>offset_dims={1}, collapsed_slice_dims={0}, start_index_map={0}, index_vector_dim=1<br/>slice_sizes={1,64}<br/>f32[3,64]{1,0}\n",
      "Parameter 0</b><br/>f32[541,3,64]{2,1,0}\n",
      "Parameter 1</b><br/>f32[3,64]{1,0}\n",
      "broadcast.39</b><br/>dimensions={1,2}<br/>f32[541,3,64]{2,1,0}\n",
      "add.40</b><br/>f32[541,3,64]{2,1,0}\n",
      "bitcast.33</b><br/>f32[1623,64]{1,0}\n",
      "Parameter 6</b><br/>sharding={replicated}<br/>f32[64,64]{1,0}\n",
      "dot.4</b><br/>lhs_contracting_dims={1}, rhs_contracting_dims={0}<br/>f32[1623,64]{1,0}\n",
      "Parameter 1</b><br/>f32[1623,64]{1,0}\n",
      "bitcast.32</b><br/>f32[541,3,64]{2,1,0}\n",
      "Parameter 0</b><br/>f32[64]\n",
      "broadcast.38</b><br/>dimensions={2}<br/>f32[541,3,64]{2,1,0}\n",
      "add.39</b><br/>f32[541,3,64]{2,1,0}\n",
      "maximum.3</b><br/>f32[541,3,64]{2,1,0}<br/>\n",
      "bitcast.31</b><br/>f32[1623,64]{1,0}\n",
      "Parameter 7</b><br/>sharding={replicated}<br/>f32[64,64]{1,0}\n",
      "dot.5</b><br/>lhs_contracting_dims={1}, rhs_contracting_dims={0}<br/>f32[1623,64]{1,0}\n",
      "Parameter 3</b><br/>sharding={replicated}<br/>f32[]\n",
      "Parameter 0</b><br/>f32[]\n",
      "broadcast.40</b><br/>dimensions={}<br/>f32[3,3]{1,0}\n",
      "multiply.15</b><br/>f32[3,3]{1,0}<br/>\n",
      "Parameter 0</b><br/>f32[541,3,64]{2,1,0}\n",
      "Parameter 1</b><br/>f32[3,64]{1,0}\n",
      "broadcast.43</b><br/>dimensions={1,2}<br/>f32[541,3,64]{2,1,0}\n",
      "add.41</b><br/>f32[541,3,64]{2,1,0}\n",
      "transpose.72</b><br/>dimensions={1,0,2}<br/>f32[3,541,64]{2,0,1}\n",
      "copy.8</b><br/>f32[3,541,64]{2,1,0}\n",
      "bitcast.34</b><br/>f32[3,34624]{1,0}\n",
      "dot.3</b><br/>lhs_contracting_dims={1}, rhs_contracting_dims={0}<br/>f32[3,34624]{1,0}\n",
      "Parameter 2</b><br/>sharding={replicated}<br/>f32[]\n",
      "Parameter 0</b><br/>f32[]\n",
      "broadcast.41</b><br/>dimensions={}<br/>f32[3,3]{1,0}\n",
      "multiply.16</b><br/>f32[3,3]{1,0}<br/>\n",
      "dot.2</b><br/>lhs_contracting_dims={1}, rhs_contracting_dims={0}<br/>f32[3,34624]{1,0}\n",
      "Parameter 0</b><br/>sharding={replicated}<br/>f32[]\n",
      "Parameter 0</b><br/>f32[]\n",
      "broadcast.46</b><br/>dimensions={}<br/>f32[3,3]{1,0}\n",
      "multiply.18</b><br/>f32[3,3]{1,0}<br/>\n",
      "dot</b><br/>lhs_contracting_dims={1}, rhs_contracting_dims={0}<br/>f32[3,34624]{1,0}\n",
      "Parameter 1</b><br/>sharding={replicated}<br/>f32[]\n",
      "Parameter 0</b><br/>f32[]\n",
      "broadcast.42</b><br/>dimensions={}<br/>f32[3,3]{1,0}\n",
      "multiply.17</b><br/>f32[3,3]{1,0}<br/>\n",
      "dot.1</b><br/>lhs_contracting_dims={1}, rhs_contracting_dims={0}<br/>f32[3,34624]{1,0}\n",
      "Parameter 4</b><br/>f32[3,34624]{1,0}\n",
      "Parameter 5</b><br/>f32[3,34624]{1,0}\n",
      "add.32</b><br/>f32[3,34624]{1,0}\n",
      "Parameter 3</b><br/>f32[3,34624]{1,0}\n",
      "add.31</b><br/>f32[3,34624]{1,0}\n",
      "Parameter 2</b><br/>f32[3,34624]{1,0}\n",
      "add.30</b><br/>f32[3,34624]{1,0}\n",
      "multiply.10</b><br/>f32[3,34624]{1,0}<br/>\n",
      "bitcast.27</b><br/>f32[3,541,64]{2,1,0}\n",
      "transpose.69</b><br/>dimensions={1,0,2}<br/>f32[541,3,64]{2,0,1}\n",
      "copy.5</b><br/>f32[541,3,64]{2,1,0}\n",
      "Parameter 1</b><br/>f32[1623,64]{1,0}\n",
      "bitcast.26</b><br/>f32[541,3,64]{2,1,0}\n",
      "Parameter 0</b><br/>f32[64]\n",
      "broadcast.28</b><br/>dimensions={2}<br/>f32[541,3,64]{2,1,0}\n",
      "add.29</b><br/>f32[541,3,64]{2,1,0}\n",
      "add.28</b><br/>f32[541,3,64]{2,1,0}\n",
      "bitcast.25</b><br/>f32[1623,64]{1,0}\n",
      "Parameter 14</b><br/>sharding={replicated}<br/>f32[64,64]{1,0}\n",
      "dot.10</b><br/>lhs_contracting_dims={1}, rhs_contracting_dims={0}<br/>f32[1623,64]{1,0}\n",
      "Parameter 1</b><br/>f32[1623,64]{1,0}\n",
      "bitcast.24</b><br/>f32[541,3,64]{2,1,0}\n",
      "Parameter 0</b><br/>f32[64]\n",
      "broadcast.24</b><br/>dimensions={2}<br/>f32[541,3,64]{2,1,0}\n",
      "add.27</b><br/>f32[541,3,64]{2,1,0}\n",
      "maximum.2</b><br/>f32[541,3,64]{2,1,0}<br/>\n",
      "bitcast.23</b><br/>f32[1623,64]{1,0}\n",
      "Parameter 15</b><br/>sharding={replicated}<br/>f32[64,64]{1,0}\n",
      "dot.11</b><br/>lhs_contracting_dims={1}, rhs_contracting_dims={0}<br/>f32[1623,64]{1,0}\n",
      "Parameter 11</b><br/>sharding={replicated}<br/>f32[]\n",
      "Parameter 0</b><br/>f32[]\n",
      "broadcast.32</b><br/>dimensions={}<br/>f32[3,3]{1,0}\n",
      "multiply.11</b><br/>f32[3,3]{1,0}<br/>\n",
      "Parameter 4</b><br/>f32[3,34624]{1,0}\n",
      "Parameter 5</b><br/>f32[3,34624]{1,0}\n",
      "add.38</b><br/>f32[3,34624]{1,0}\n",
      "Parameter 3</b><br/>f32[3,34624]{1,0}\n",
      "add.37</b><br/>f32[3,34624]{1,0}\n",
      "Parameter 2</b><br/>f32[3,34624]{1,0}\n",
      "add.35</b><br/>f32[3,34624]{1,0}\n",
      "multiply.14</b><br/>f32[3,34624]{1,0}<br/>\n",
      "bitcast.30</b><br/>f32[3,541,64]{2,1,0}\n",
      "transpose.71</b><br/>dimensions={1,0,2}<br/>f32[541,3,64]{2,0,1}\n",
      "copy.7</b><br/>f32[541,3,64]{2,1,0}\n",
      "Parameter 1</b><br/>f32[1623,64]{1,0}\n",
      "bitcast.29</b><br/>f32[541,3,64]{2,1,0}\n",
      "Parameter 0</b><br/>f32[64]\n",
      "broadcast.35</b><br/>dimensions={2}<br/>f32[541,3,64]{2,1,0}\n",
      "add.34</b><br/>f32[541,3,64]{2,1,0}\n",
      "add.33</b><br/>f32[541,3,64]{2,1,0}\n",
      "transpose.70</b><br/>dimensions={1,0,2}<br/>f32[3,541,64]{2,0,1}\n",
      "copy.6</b><br/>f32[3,541,64]{2,1,0}\n",
      "bitcast.28</b><br/>f32[3,34624]{1,0}\n",
      "dot.9</b><br/>lhs_contracting_dims={1}, rhs_contracting_dims={0}<br/>f32[3,34624]{1,0}\n",
      "Parameter 10</b><br/>sharding={replicated}<br/>f32[]\n",
      "Parameter 0</b><br/>f32[]\n",
      "broadcast.33</b><br/>dimensions={}<br/>f32[3,3]{1,0}\n",
      "multiply.12</b><br/>f32[3,3]{1,0}<br/>\n",
      "dot.8</b><br/>lhs_contracting_dims={1}, rhs_contracting_dims={0}<br/>f32[3,34624]{1,0}\n",
      "Parameter 8</b><br/>sharding={replicated}<br/>f32[]\n",
      "Parameter 0</b><br/>f32[]\n",
      "broadcast.48</b><br/>dimensions={}<br/>f32[3,3]{1,0}\n",
      "multiply.19</b><br/>f32[3,3]{1,0}<br/>\n",
      "dot.6</b><br/>lhs_contracting_dims={1}, rhs_contracting_dims={0}<br/>f32[3,34624]{1,0}\n",
      "Parameter 9</b><br/>sharding={replicated}<br/>f32[]\n",
      "Parameter 0</b><br/>f32[]\n",
      "broadcast.34</b><br/>dimensions={}<br/>f32[3,3]{1,0}\n",
      "multiply.13</b><br/>f32[3,3]{1,0}<br/>\n",
      "dot.7</b><br/>lhs_contracting_dims={1}, rhs_contracting_dims={0}<br/>f32[3,34624]{1,0}\n",
      "Parameter 5</b><br/>f32[3,34624]{1,0}\n",
      "Parameter 6</b><br/>f32[3,34624]{1,0}\n",
      "add.26</b><br/>f32[3,34624]{1,0}\n",
      "Parameter 4</b><br/>f32[3,34624]{1,0}\n",
      "add.25</b><br/>f32[3,34624]{1,0}\n",
      "Parameter 3</b><br/>f32[3,34624]{1,0}\n",
      "add.24</b><br/>f32[3,34624]{1,0}\n",
      "multiply.9</b><br/>f32[3,34624]{1,0}<br/>\n",
      "bitcast.22</b><br/>f32[3,541,64]{2,1,0}\n",
      "transpose.68</b><br/>dimensions={1,0,2}<br/>f32[541,3,64]{2,0,1}\n",
      "copy.4</b><br/>f32[541,3,64]{2,1,0}\n",
      "Parameter 2</b><br/>f32[1623,64]{1,0}\n",
      "bitcast.21</b><br/>f32[541,3,64]{2,1,0}\n",
      "Parameter 1</b><br/>f32[64]\n",
      "broadcast.21</b><br/>dimensions={2}<br/>f32[541,3,64]{2,1,0}\n",
      "add.23</b><br/>f32[541,3,64]{2,1,0}\n",
      "add.22</b><br/>f32[541,3,64]{2,1,0}\n",
      "bitcast.19</b><br/>f32[1623,64]{1,0}\n",
      "Parameter 0</b><br/>f32[64,1]{1,0}\n",
      "bitcast.20</b><br/>f32[64]\n",
      "dot.13</b><br/>lhs_contracting_dims={1}, rhs_contracting_dims={0}<br/>f32[1623]\n",
      "Parameter 0</b><br/>s32[541]\n",
      "Parameter 1</b><br/>f32[1623]\n",
      "Parameter 1</b><br/>f32[1623]\n",
      "bitcast.37</b><br/>f32[541,3,1]{2,1,0}\n",
      "slice.1</b><br/>slice={[0:541], [2:3], [0:1]}<br/>f32[541,1,1]{2,1,0}\n",
      "bitcast.36</b><br/>f32[541]\n",
      "broadcast.52</b><br/>dimensions={0}<br/>f32[541,541]{1,0}\n",
      "Parameter 0</b><br/>s32[541]\n",
      "convert.1</b><br/>f32[541]\n",
      "broadcast.50</b><br/>dimensions={1}<br/>f32[541,541]{1,0}\n",
      "subtract.1</b><br/>f32[541,541]{1,0}\n",
      "multiply.20</b><br/>f32[541,541]{1,0}\n",
      "call</b><br/>f32[541,541]{1,0}\n",
      "reduce-window</b><br/>Subcomputation: \n",
      "Parameter 0</b><br/>f32[17,17]{1,0}\n",
      "reduce.9</b><br/>Subcomputation: \n",
      "multiply.7</b><br/>f32[]<br/>\n"
     ]
    }
   ],
   "source": [
    "esch.compute_graph_fn(loss_fn, params, x, y)"
   ]
  }
 ],
 "metadata": {
  "kernelspec": {
   "display_name": "Python 3",
   "language": "python",
   "name": "python3"
  },
  "language_info": {
   "codemirror_mode": {
    "name": "ipython",
    "version": 3
   },
   "file_extension": ".py",
   "mimetype": "text/x-python",
   "name": "python",
   "nbconvert_exporter": "python",
   "pygments_lexer": "ipython3",
   "version": "3.11.7"
  }
 },
 "nbformat": 4,
 "nbformat_minor": 2
}
