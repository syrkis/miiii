{
 "cells": [
  {
   "cell_type": "markdown",
   "metadata": {},
   "source": [
    "# MIIII"
   ]
  },
  {
   "cell_type": "code",
   "execution_count": 1,
   "metadata": {},
   "outputs": [],
   "source": [
    "import jax, optax, yaml\n",
    "import jax.numpy as jnp\n",
    "from jax import jit, random, tree_util\n",
    "from jax.lib import xla_client\n",
    "from functional import partial\n",
    "from tqdm import tqdm\n",
    "import numpy as np\n",
    "import tikz\n",
    "\n",
    "\n",
    "from src.data import data_fn\n",
    "from src.model import init_fn, apply_fn\n",
    "import esch"
   ]
  },
  {
   "cell_type": "code",
   "execution_count": 2,
   "metadata": {},
   "outputs": [],
   "source": [
    "with open(\"config.yaml\", \"r\") as f:\n",
    "    conf = yaml.load(f, Loader=yaml.FullLoader)"
   ]
  },
  {
   "cell_type": "code",
   "execution_count": 3,
   "metadata": {},
   "outputs": [],
   "source": [
    "rng, key = random.split(random.PRNGKey(0))\n",
    "opt = optax.lion(conf[\"lr\"], weight_decay=conf[\"weight_decay\"])\n",
    "params = init_fn(key, conf)\n",
    "state = opt.init(params)\n",
    "x, y = data_fn(conf)"
   ]
  },
  {
   "cell_type": "code",
   "execution_count": 4,
   "metadata": {},
   "outputs": [],
   "source": [
    "def loss_fn(params, x, y):  # todo: weight by prime frquency\n",
    "    y_pred = apply_fn(params, x)\n",
    "    loss = jnp.square(y_pred - y).mean()\n",
    "    return loss"
   ]
  },
  {
   "cell_type": "code",
   "execution_count": 5,
   "metadata": {},
   "outputs": [],
   "source": [
    "@jit\n",
    "def update_fn(params, state, x, y):\n",
    "    loss, grads = jax.value_and_grad(loss_fn)(params, x, y)\n",
    "    updates, state = opt.update(grads, state, params)\n",
    "    params = optax.apply_updates(params, updates)\n",
    "    return params, state, loss"
   ]
  },
  {
   "cell_type": "code",
   "execution_count": 6,
   "metadata": {},
   "outputs": [
    {
     "name": "stderr",
     "output_type": "stream",
     "text": [
      "  0%|          | 0/20 [00:00<?, ?it/s]"
     ]
    },
    {
     "name": "stderr",
     "output_type": "stream",
     "text": [
      "100%|██████████| 20/20 [00:00<00:00, 35.28it/s]\n"
     ]
    }
   ],
   "source": [
    "pbar = tqdm(range(conf[\"epochs\"]))\n",
    "losses = jnp.zeros(conf[\"epochs\"])\n",
    "for epoch in pbar:\n",
    "    params, state, loss = update_fn(params, state, x, y)\n",
    "    losses = losses.at[epoch].add(loss)"
   ]
  },
  {
   "cell_type": "code",
   "execution_count": 7,
   "metadata": {},
   "outputs": [
    {
     "data": {
      "application/vnd.plotly.v1+json": {
       "config": {
        "plotlyServerURL": "https://plot.ly"
       },
       "data": [
        {
         "line": {
          "color": "black",
          "dash": "solid",
          "width": 2
         },
         "mode": "lines",
         "type": "scatter",
         "x": [
          0,
          1,
          2,
          3,
          4,
          5,
          6,
          7,
          8,
          9,
          10,
          11,
          12,
          13,
          14,
          15,
          16,
          17,
          18,
          19
         ],
         "y": [
          0.18298271298408508,
          0.18207359313964844,
          0.18109801411628723,
          0.1799837052822113,
          0.17868417501449585,
          0.17716741561889648,
          0.17538700997829437,
          0.17333956062793732,
          0.17101775109767914,
          0.16842857003211975,
          0.1655920147895813,
          0.16255801916122437,
          0.1594114750623703,
          0.1562885046005249,
          0.15339654684066772,
          0.15104256570339203,
          0.14966611564159393,
          0.1498854011297226,
          0.1522037535905838,
          0.1502968668937683
         ]
        },
        {
         "line": {
          "color": "black",
          "dash": "dash",
          "width": 2
         },
         "mode": "lines",
         "type": "scatter",
         "x": [
          0,
          1,
          2,
          3,
          4,
          5,
          6,
          7,
          8,
          9,
          10,
          11,
          12,
          13,
          14,
          15,
          16,
          17,
          18,
          19
         ],
         "y": [
          0.17298270761966705,
          0.1720735877752304,
          0.1710980087518692,
          0.16998369991779327,
          0.16868416965007782,
          0.16716741025447845,
          0.16538700461387634,
          0.1633395552635193,
          0.1610177457332611,
          0.15842856466770172,
          0.15559200942516327,
          0.15255801379680634,
          0.14941146969795227,
          0.14628849923610687,
          0.1433965414762497,
          0.141042560338974,
          0.1396661102771759,
          0.13988539576530457,
          0.14220374822616577,
          0.14029686152935028
         ]
        },
        {
         "line": {
          "color": "black",
          "dash": "dot",
          "width": 2
         },
         "mode": "lines",
         "type": "scatter",
         "x": [
          0,
          1,
          2,
          3,
          4,
          5,
          6,
          7,
          8,
          9,
          10,
          11,
          12,
          13,
          14,
          15,
          16,
          17,
          18,
          19
         ],
         "y": [
          0.1929827183485031,
          0.19207359850406647,
          0.19109801948070526,
          0.18998371064662933,
          0.18868418037891388,
          0.18716742098331451,
          0.1853870153427124,
          0.18333956599235535,
          0.18101775646209717,
          0.17842857539653778,
          0.17559202015399933,
          0.1725580245256424,
          0.16941148042678833,
          0.16628850996494293,
          0.16339655220508575,
          0.16104257106781006,
          0.15966612100601196,
          0.15988540649414062,
          0.16220375895500183,
          0.16029687225818634
         ]
        },
        {
         "line": {
          "color": "black",
          "dash": "dashdot",
          "width": 2
         },
         "mode": "lines",
         "type": "scatter",
         "x": [
          0,
          1,
          2,
          3,
          4,
          5,
          6,
          7,
          8,
          9,
          10,
          11,
          12,
          13,
          14,
          15,
          16,
          17,
          18,
          19
         ],
         "y": [
          0.20298270881175995,
          0.2020735889673233,
          0.2010980099439621,
          0.19998370110988617,
          0.19868417084217072,
          0.19716741144657135,
          0.19538700580596924,
          0.19333955645561218,
          0.191017746925354,
          0.18842856585979462,
          0.18559201061725616,
          0.18255801498889923,
          0.17941147089004517,
          0.17628850042819977,
          0.1733965426683426,
          0.1710425615310669,
          0.1696661114692688,
          0.16988539695739746,
          0.17220374941825867,
          0.17029686272144318
         ]
        }
       ],
       "layout": {
        "template": {
         "layout": {
          "font": {
           "color": "black",
           "family": "Times New Roman, serif",
           "size": 18
          },
          "paper_bgcolor": "white",
          "plot_bgcolor": "white",
          "title": {
           "font": {
            "color": "black",
            "size": 22
           },
           "x": 0.5,
           "xanchor": "center"
          },
          "xaxis": {
           "linecolor": "black",
           "linewidth": 1,
           "mirror": true,
           "showgrid": false,
           "showline": true,
           "tickcolor": "black",
           "tickfont": {
            "color": "black",
            "size": 14
           },
           "ticks": "outside",
           "title": {
            "font": {
             "color": "black",
             "size": 18
            },
            "standoff": 15
           }
          },
          "yaxis": {
           "linecolor": "black",
           "linewidth": 1,
           "mirror": true,
           "showgrid": false,
           "showline": true,
           "tickcolor": "black",
           "tickfont": {
            "color": "black",
            "size": 14
           },
           "ticks": "outside",
           "title": {
            "font": {
             "color": "black",
             "size": 18
            },
            "standoff": 15
           }
          }
         }
        },
        "title": {
         "text": "Training curves"
        },
        "xaxis": {
         "title": {
          "text": "Epoch"
         }
        },
        "yaxis": {
         "title": {
          "text": "MSE"
         }
        }
       }
      }
     },
     "metadata": {},
     "output_type": "display_data"
    }
   ],
   "source": [
    "info = dict(title=\"Training curves\", xlab=\"Epoch\", ylab=\"MSE\")\n",
    "fig = esch.curves_fn([losses, losses - 0.01, losses + 0.01, losses + 0.02], info)\n",
    "fig.show()"
   ]
  },
  {
   "cell_type": "code",
   "execution_count": null,
   "metadata": {},
   "outputs": [],
   "source": []
  },
  {
   "cell_type": "markdown",
   "metadata": {},
   "source": [
    "## Figures"
   ]
  },
  {
   "cell_type": "code",
   "execution_count": 5,
   "metadata": {},
   "outputs": [
    {
     "data": {
      "image/png": "[encoded data removed]",
      "image/svg+xml": [
       "<svg xmlns=\"http://www.w3.org/2000/svg\" xmlns:xlink=\"http://www.w3.org/1999/xlink\" version=\"1.1\" width=\"57.49\" height=\"92.92\" viewBox=\"0 0 57.49 92.92\">\n",
       "<path transform=\"matrix(1,0,0,-1,.39900209,92.520999)\" stroke-width=\".79701\" stroke-linecap=\"butt\" stroke-miterlimit=\"10\" stroke-linejoin=\"miter\" fill=\"none\" stroke=\"#000000\" d=\"M0 0V52.70851C0 54.90945 1.11452 58.08673 2.48935 59.80527L25.85745 89.01546C27.23228 90.734 29.46132 90.734 30.83615 89.01546L54.20425 59.80527C55.5791 58.08673 56.69362 54.90945 56.69362 52.70851V3.9851C56.69362 1.78416 55.43202 1.2616 53.87572 2.81789L2.81789 53.87572C1.2616 55.43202 1.78416 56.69362 3.9851 56.69362H52.70851C54.90945 56.69362 55.43202 55.43202 53.87572 53.87572L2.81789 2.81789C1.2616 1.2616 1.78416 0 3.9851 0H56.69362\"/>\n",
       "</svg>\n"
      ],
      "text/plain": [
       "<tikz.Picture at 0x3148c6610>"
      ]
     },
     "execution_count": 5,
     "metadata": {},
     "output_type": "execute_result"
    }
   ],
   "source": [
    "# define coordinates as a list of tuples\n",
    "from tikz import Picture, line\n",
    "\n",
    "coords = [(0, 0), (0, 2), (1, 3.25), (2, 2), (2, 0), (0, 2), (2, 2), (0, 0), (2, 0)]\n",
    "\n",
    "# create `Picture` object\n",
    "pic = Picture()\n",
    "# draw a line following the coordinates\n",
    "pic.draw(line(coords), thick=True, rounded_corners=\"4pt\")\n",
    "pic"
   ]
  },
  {
   "cell_type": "code",
   "execution_count": 9,
   "metadata": {},
   "outputs": [],
   "source": [
    "def box_fn(width, height, x, y, label=\"\"):\n",
    "    coords = [(x, y), (x, y + height), (x + width, y + height), (x + width, y), (x, y)]\n",
    "    return line(coords)"
   ]
  },
  {
   "cell_type": "code",
   "execution_count": 22,
   "metadata": {},
   "outputs": [
    {
     "ename": "TypeError",
     "evalue": "line.__init__() got an unexpected keyword argument 'thick'",
     "output_type": "error",
     "traceback": [
      "\u001b[0;31m---------------------------------------------------------------------------\u001b[0m",
      "\u001b[0;31mTypeError\u001b[0m                                 Traceback (most recent call last)",
      "Cell \u001b[0;32mIn[22], line 11\u001b[0m\n\u001b[1;32m      8\u001b[0m     \u001b[38;5;28;01mreturn\u001b[39;00m box, text\n\u001b[1;32m     10\u001b[0m pic \u001b[38;5;241m=\u001b[39m Picture()\n\u001b[0;32m---> 11\u001b[0m input_box, input_label \u001b[38;5;241m=\u001b[39m \u001b[43mdraw_rounded_box\u001b[49m\u001b[43m(\u001b[49m\u001b[38;5;241;43m2\u001b[39;49m\u001b[43m,\u001b[49m\u001b[43m \u001b[49m\u001b[38;5;241;43m1\u001b[39;49m\u001b[43m,\u001b[49m\u001b[43m \u001b[49m\u001b[38;5;241;43m0\u001b[39;49m\u001b[43m,\u001b[49m\u001b[43m \u001b[49m\u001b[38;5;241;43m0\u001b[39;49m\u001b[43m,\u001b[49m\u001b[43m \u001b[49m\u001b[38;5;124;43m\"\u001b[39;49m\u001b[38;5;124;43mInput\u001b[39;49m\u001b[38;5;124;43m\"\u001b[39;49m\u001b[43m)\u001b[49m\n\u001b[1;32m     12\u001b[0m output_box, output_label \u001b[38;5;241m=\u001b[39m draw_rounded_box(\u001b[38;5;241m2\u001b[39m, \u001b[38;5;241m1\u001b[39m, \u001b[38;5;241m0\u001b[39m, \u001b[38;5;241m2\u001b[39m, \u001b[38;5;124m\"\u001b[39m\u001b[38;5;124mOutput\u001b[39m\u001b[38;5;124m\"\u001b[39m)\n\u001b[1;32m     13\u001b[0m pic\u001b[38;5;241m.\u001b[39mdraw(input_box)\n",
      "Cell \u001b[0;32mIn[22], line 6\u001b[0m, in \u001b[0;36mdraw_rounded_box\u001b[0;34m(width, height, x, y, label)\u001b[0m\n\u001b[1;32m      4\u001b[0m \u001b[38;5;28;01mdef\u001b[39;00m \u001b[38;5;21mdraw_rounded_box\u001b[39m(width, height, x, y, label\u001b[38;5;241m=\u001b[39m\u001b[38;5;124m\"\u001b[39m\u001b[38;5;124m\"\u001b[39m):\n\u001b[1;32m      5\u001b[0m     coords \u001b[38;5;241m=\u001b[39m [(x, y), (x, y \u001b[38;5;241m+\u001b[39m height), (x \u001b[38;5;241m+\u001b[39m width, y \u001b[38;5;241m+\u001b[39m height), (x \u001b[38;5;241m+\u001b[39m width, y), (x, y)]\n\u001b[0;32m----> 6\u001b[0m     box \u001b[38;5;241m=\u001b[39m \u001b[43mline\u001b[49m\u001b[43m(\u001b[49m\u001b[43mcoords\u001b[49m\u001b[43m,\u001b[49m\u001b[43m \u001b[49m\u001b[43mthick\u001b[49m\u001b[38;5;241;43m=\u001b[39;49m\u001b[38;5;28;43;01mTrue\u001b[39;49;00m\u001b[43m,\u001b[49m\u001b[43m \u001b[49m\u001b[43mrounded_corners\u001b[49m\u001b[38;5;241;43m=\u001b[39;49m\u001b[38;5;124;43m\"\u001b[39;49m\u001b[38;5;124;43m10pt\u001b[39;49m\u001b[38;5;124;43m\"\u001b[39;49m\u001b[43m)\u001b[49m\n\u001b[1;32m      7\u001b[0m     text \u001b[38;5;241m=\u001b[39m node(x \u001b[38;5;241m+\u001b[39m width \u001b[38;5;241m/\u001b[39m \u001b[38;5;241m2\u001b[39m, y \u001b[38;5;241m+\u001b[39m height \u001b[38;5;241m/\u001b[39m \u001b[38;5;241m2\u001b[39m, label, center\u001b[38;5;241m=\u001b[39m\u001b[38;5;28;01mTrue\u001b[39;00m)\n\u001b[1;32m      8\u001b[0m     \u001b[38;5;28;01mreturn\u001b[39;00m box, text\n",
      "\u001b[0;31mTypeError\u001b[0m: line.__init__() got an unexpected keyword argument 'thick'"
     ]
    }
   ],
   "source": [
    "# make mlp in -> activation -> out diagram with tikz\n",
    "from tikz import Picture, line, node\n",
    "\n",
    "\n",
    "def draw_rounded_box(width, height, x, y, label=\"\"):\n",
    "    coords = [(x, y), (x, y + height), (x + width, y + height), (x + width, y), (x, y)]\n",
    "    box = line(coords, thick=True, rounded_corners=\"10pt\")\n",
    "    text = node(x + width / 2, y + height / 2, label, center=True)\n",
    "    return box, text\n",
    "\n",
    "\n",
    "pic = Picture()\n",
    "input_box, input_label = draw_rounded_box(2, 1, 0, 0, \"Input\")\n",
    "output_box, output_label = draw_rounded_box(2, 1, 0, 2, \"Output\")\n",
    "pic.draw(input_box)\n",
    "pic.draw(output_box)\n",
    "pic.draw(line([(1, 0), (1, 1)]), position=node(0.5, 0, \"Activation\", above=True))\n",
    "pic.draw(input_label)\n",
    "pic.draw(output_label)\n",
    "\n",
    "# Render the picture (you need to install the tikz package for this to work)\n",
    "pic.writeTikZ(\"mlp_diagram.tex\")\n",
    "pic"
   ]
  },
  {
   "cell_type": "code",
   "execution_count": null,
   "metadata": {},
   "outputs": [],
   "source": []
  }
 ],
 "metadata": {
  "kernelspec": {
   "display_name": "Python 3",
   "language": "python",
   "name": "python3"
  },
  "language_info": {
   "codemirror_mode": {
    "name": "ipython",
    "version": 3
   },
   "file_extension": ".py",
   "mimetype": "text/x-python",
   "name": "python",
   "nbconvert_exporter": "python",
   "pygments_lexer": "ipython3",
   "version": "3.11.7"
  }
 },
 "nbformat": 4,
 "nbformat_minor": 2
}
