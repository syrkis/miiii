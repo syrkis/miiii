{
 "cells": [
  {
   "cell_type": "code",
   "execution_count": 118,
   "metadata": {},
   "outputs": [],
   "source": [
    "import jax, optax, yaml\n",
    "import jax.numpy as jnp\n",
    "from jax import grad, jit, vmap, random\n",
    "from jax.tree_util import tree_flatten\n",
    "\n",
    "from einops import rearrange\n",
    "from functional import partial\n",
    "\n",
    "import numpy as np\n",
    "import yaml\n",
    "import numpy as np\n",
    "from tqdm import tqdm\n",
    "from src.data import data_fn"
   ]
  },
  {
   "cell_type": "code",
   "execution_count": 119,
   "metadata": {},
   "outputs": [],
   "source": [
    "def apply_fn(params, x):\n",
    "    x = embed_fn(params, x)\n",
    "    for block in params['blocks']:\n",
    "        x = head_fn(block['head'], x) + mlp_fn(block['mlp'], x)\n",
    "    logits = x @ params['lm_head']                       # B x T x V\n",
    "    return logits\n",
    "\n",
    "def head_fn(params, x):\n",
    "    x = [head_apply_fn(params[f'head_{i}'], x) for i in range(len(params))]\n",
    "    x = jnp.stack(x, axis=-1).mean(axis=-1)\n",
    "    return x\n",
    "\n",
    "def head_apply_fn(params, x):\n",
    "    # tril = jnp.nan_to_num(jnp.absolute(jnp.tril(jnp.ones((T, T))) - 1) * (-jnp.inf), nan=0)\n",
    "    # mask = jnp.nan_to_num(jnp.triu(jnp.ones((T, T))) * (-jnp.inf), nan=0)\n",
    "    k  = x @ params['key']                      # B x T x H\n",
    "    q  = x @ params['query']                    # B x T x H\n",
    "    z  = q @ rearrange(k, \"b t h -> b h t\")  # k.transpose(0, 2, 1)               # B x T x T\n",
    "    z /= jnp.sqrt(params['key'].shape[1])       # divide by sqrt to normalize\n",
    "    z  = params['alpha'] * np.eye(x.shape[1]) # +  params['beta'] * x              # - gamma * C  # <-- shaped attention\n",
    "    return z @ x\n",
    "    \n",
    "def mlp_fn(params, x):  # TODO: maybe switch activation\n",
    "    x = x @ params['dense1'] + params['bias1']\n",
    "    x = jax.nn.relu(x)\n",
    "    x = x @ params['dense2'] + params['bias2']\n",
    "    return x\n",
    "\n",
    "def embed_fn(params, x):\n",
    "    n  = x.shape[1]                              # num toks in sample\n",
    "    x  = params['tok_embedding'][x]              # tok embeddings\n",
    "    x += params['pos_embedding'][jnp.arange(n)]  # pos embeddings\n",
    "    return x"
   ]
  },
  {
   "cell_type": "code",
   "execution_count": 120,
   "metadata": {},
   "outputs": [],
   "source": [
    "def init_head_fn(rng, conf):  # embed_dim, n_heads, scale):\n",
    "    head_size = conf['embed_dim'] // conf['n_heads']\n",
    "    rng, key  = jax.random.split(rng)\n",
    "    params = {} \n",
    "    for i in range(conf['n_heads'] ):\n",
    "        params[f'head_{i}'] = {\n",
    "            'key'   : jax.random.normal(key, shape=(conf['embed_dim'] , head_size)) * conf['scale'] ,\n",
    "            'query' : jnp.zeros((conf['embed_dim'] , head_size)),\n",
    "            'alpha' : jnp.array(1),\n",
    "            'beta'  : jnp.array(0),\n",
    "            }\n",
    "    return params\n",
    "\n",
    "def init_mlp_fn(rng, conf):\n",
    "    rng, key1, key2 = jax.random.split(rng, 3)\n",
    "    params = {\n",
    "        'dense1' : jax.random.normal(key1, shape=(conf['embed_dim'], conf['embed_dim'])) * conf['scale'],\n",
    "        'bias1'  : jnp.zeros((conf['embed_dim'],)),\n",
    "        'dense2' : jax.random.normal(key2, shape=(conf['embed_dim'], conf['embed_dim'])) * conf['scale'],\n",
    "        'bias2'  : jnp.zeros((conf['embed_dim'],)),\n",
    "        }\n",
    "    return params\n",
    "\n",
    "def init_block_fn(rng, conf):\n",
    "    rng, key1, key2 = jax.random.split(rng, 3)\n",
    "    params = {\n",
    "        'head'  : init_head_fn(key1, conf),\n",
    "        'mlp'  : init_mlp_fn(key2, conf),\n",
    "        }\n",
    "    return params\n",
    "\n",
    "def init_fn(rng, conf):\n",
    "    rng, key1, key2, key3 = jax.random.split(rng, 4)\n",
    "    params = {\n",
    "        'tok_embedding' : jax.random.normal(key1, shape=(conf['base'], conf['embed_dim'])) * conf['scale'],\n",
    "        'pos_embedding' : jax.random.normal(key2, shape=(conf['block_size'], conf['embed_dim'])) * conf['scale'],\n",
    "        'lm_head'       : jax.random.normal(key3, shape=(conf['embed_dim'], conf['base'])) * conf['scale'],\n",
    "        'blocks'        : [init_block_fn(key1, conf) for _ in range(conf['n_layers'])],\n",
    "        }\n",
    "    return params"
   ]
  },
  {
   "cell_type": "code",
   "execution_count": 121,
   "metadata": {},
   "outputs": [],
   "source": [
    "with open('config.yaml', 'r') as f:\n",
    "    conf = yaml.load(f, Loader=yaml.FullLoader)"
   ]
  },
  {
   "cell_type": "code",
   "execution_count": 122,
   "metadata": {},
   "outputs": [
    {
     "data": {
      "text/plain": [
       "(7919, 4, 16)"
      ]
     },
     "execution_count": 122,
     "metadata": {},
     "output_type": "execute_result"
    }
   ],
   "source": [
    "rng, key = random.split(random.PRNGKey(0))\n",
    "params   = init_fn(key, conf)\n",
    "x, y     = data_fn(conf)\n",
    "apply_fn(params, x).shape"
   ]
  },
  {
   "cell_type": "code",
   "execution_count": null,
   "metadata": {},
   "outputs": [],
   "source": []
  },
  {
   "cell_type": "code",
   "execution_count": null,
   "metadata": {},
   "outputs": [],
   "source": []
  }
 ],
 "metadata": {
  "kernelspec": {
   "display_name": "Python 3",
   "language": "python",
   "name": "python3"
  },
  "language_info": {
   "codemirror_mode": {
    "name": "ipython",
    "version": 3
   },
   "file_extension": ".py",
   "mimetype": "text/x-python",
   "name": "python",
   "nbconvert_exporter": "python",
   "pygments_lexer": "ipython3",
   "version": "3.11.7"
  }
 },
 "nbformat": 4,
 "nbformat_minor": 2
}
